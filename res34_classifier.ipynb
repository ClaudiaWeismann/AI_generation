{
 "cells": [
  {
   "cell_type": "code",
   "execution_count": 1,
   "metadata": {},
   "outputs": [],
   "source": [
    "import os\n",
    "import pickle\n",
    "import copy\n",
    "import torch\n",
    "import torch.nn as nn\n",
    "import pickle\n",
    "import cv2\n",
    "\n",
    "import numpy as np\n",
    "import matplotlib.pyplot as plt\n",
    "import matplotlib.gridspec as gridspec\n",
    "\n",
    "from torch import optim\n",
    "from torch.autograd import Variable\n",
    "from torch.utils.data import DataLoader, Dataset\n",
    "from torchvision import transforms\n",
    "from torchvision import models"
   ]
  },
  {
   "cell_type": "code",
   "execution_count": 2,
   "metadata": {},
   "outputs": [],
   "source": [
    "class RES34(nn.Module):\n",
    "    def __init__(self):\n",
    "        super(RES34, self).__init__()\n",
    "        self.num_cls = 11\n",
    "        self.base = models.resnet34(pretrained=True)\n",
    "        self.base.fc = nn.Linear(self.base.fc.in_features, self.num_cls)\n",
    "    def forward(self, x):\n",
    "        x = self.base(x)\n",
    "        return x\n",
    "    \n",
    "    def save(self, name='res34'):\n",
    "        name += '.pth'\n",
    "        torch.save(self.state_dict(), name)\n",
    "\n",
    "    def loadIfExist(self, name='res34'):\n",
    "        name += '.pth'\n",
    "        fileList = os.listdir(\"./\")\n",
    "        # print(fileList)\n",
    "        if name in fileList:\n",
    "            self.load_state_dict(torch.load(name))\n",
    "            print(\"the latest model has been load\")\n"
   ]
  },
  {
   "cell_type": "code",
   "execution_count": 3,
   "metadata": {},
   "outputs": [],
   "source": [
    "ROOT = 'E:\\\\abag\\\\Course\\\\Third semester 2\\\\project\\\\anime_dataset\\\\'\n",
    "\n",
    "\n",
    "color_list = ['black',  'red', 'orange', 'yellow', 'green', 'cyan', 'blue', 'purple', 'pink', 'brown', 'gray']\n",
    "COLOR2LABEL = dict(zip(color_list, range(len(color_list))))\n",
    "LABEL2COLOR = dict(zip(range(len(color_list)), color_list))\n",
    "\n",
    "\n",
    "class Anime_Dataset(Dataset):\n",
    "    \n",
    "    def __init__(self, train=True):\n",
    "        \n",
    "        dir_paths = [os.path.join(ROOT, s) for s in color_list]\n",
    "        self.paths = []\n",
    "        for dir_path in dir_paths:\n",
    "            files = os.listdir(dir_path)\n",
    "            if train:\n",
    "                file_paths = [os.path.join(dir_path,file) for file in files if file.endswith('.jpg')][:-200]\n",
    "                self.paths.extend(file_paths)\n",
    "            else:\n",
    "                file_paths = [os.path.join(dir_path,file) for file in files if file.endswith('.jpg')][-200:]\n",
    "                self.paths.extend(file_paths)\n",
    "        \n",
    "    \n",
    "    def __getitem__(self, index):\n",
    "        image = cv2.imread(self.paths[index])\n",
    "        image = cv2.resize(image, (64, 64))  # shape=[128, 128, 3]\n",
    "        image = image.transpose([2, 0, 1])  # shape=[3, 128, 128]\n",
    "        image = torch.tensor(image, dtype=torch.float32)\n",
    "        image = image / 128. - 1\n",
    "        \n",
    "        color = self.paths[index].split(os.sep)[-2]\n",
    "        label = torch.tensor(COLOR2LABEL[color], dtype=torch.int64)\n",
    "        return image, label\n",
    "\n",
    "    def __len__(self):\n",
    "        return len(self.paths)"
   ]
  },
  {
   "cell_type": "code",
   "execution_count": 4,
   "metadata": {},
   "outputs": [],
   "source": [
    "def calc_acc(labels, output):\n",
    "    output = torch.argmax(output, dim=1)\n",
    "    labels = labels.to(torch.int64)\n",
    "    return torch.mean(torch.eq(output, labels).to(torch.float32)).item()"
   ]
  },
  {
   "cell_type": "code",
   "execution_count": 5,
   "metadata": {},
   "outputs": [
    {
     "ename": "FileNotFoundError",
     "evalue": "[WinError 3] 系统找不到指定的路径。: 'E:\\\\abag\\\\Course\\\\Third semester 2\\\\project\\\\anime_dataset\\\\purple'",
     "output_type": "error",
     "traceback": [
      "\u001b[1;31m---------------------------------------------------------------------------\u001b[0m",
      "\u001b[1;31mFileNotFoundError\u001b[0m                         Traceback (most recent call last)",
      "\u001b[1;32m<ipython-input-5-4d841878eced>\u001b[0m in \u001b[0;36m<module>\u001b[1;34m\u001b[0m\n\u001b[0;32m      1\u001b[0m \u001b[0mbatch_size\u001b[0m \u001b[1;33m=\u001b[0m \u001b[1;36m32\u001b[0m\u001b[1;33m\u001b[0m\u001b[1;33m\u001b[0m\u001b[0m\n\u001b[0;32m      2\u001b[0m \u001b[1;33m\u001b[0m\u001b[0m\n\u001b[1;32m----> 3\u001b[1;33m \u001b[0mtrain_dataset\u001b[0m \u001b[1;33m=\u001b[0m \u001b[0mAnime_Dataset\u001b[0m\u001b[1;33m(\u001b[0m\u001b[1;33m)\u001b[0m\u001b[1;33m\u001b[0m\u001b[1;33m\u001b[0m\u001b[0m\n\u001b[0m\u001b[0;32m      4\u001b[0m \u001b[0mtest_dataset\u001b[0m \u001b[1;33m=\u001b[0m \u001b[0mAnime_Dataset\u001b[0m\u001b[1;33m(\u001b[0m\u001b[1;32mFalse\u001b[0m\u001b[1;33m)\u001b[0m\u001b[1;33m\u001b[0m\u001b[1;33m\u001b[0m\u001b[0m\n\u001b[0;32m      5\u001b[0m \u001b[1;33m\u001b[0m\u001b[0m\n",
      "\u001b[1;32m<ipython-input-3-4e059872e327>\u001b[0m in \u001b[0;36m__init__\u001b[1;34m(self, train)\u001b[0m\n\u001b[0;32m     14\u001b[0m         \u001b[0mself\u001b[0m\u001b[1;33m.\u001b[0m\u001b[0mpaths\u001b[0m \u001b[1;33m=\u001b[0m \u001b[1;33m[\u001b[0m\u001b[1;33m]\u001b[0m\u001b[1;33m\u001b[0m\u001b[1;33m\u001b[0m\u001b[0m\n\u001b[0;32m     15\u001b[0m         \u001b[1;32mfor\u001b[0m \u001b[0mdir_path\u001b[0m \u001b[1;32min\u001b[0m \u001b[0mdir_paths\u001b[0m\u001b[1;33m:\u001b[0m\u001b[1;33m\u001b[0m\u001b[1;33m\u001b[0m\u001b[0m\n\u001b[1;32m---> 16\u001b[1;33m             \u001b[0mfiles\u001b[0m \u001b[1;33m=\u001b[0m \u001b[0mos\u001b[0m\u001b[1;33m.\u001b[0m\u001b[0mlistdir\u001b[0m\u001b[1;33m(\u001b[0m\u001b[0mdir_path\u001b[0m\u001b[1;33m)\u001b[0m\u001b[1;33m\u001b[0m\u001b[1;33m\u001b[0m\u001b[0m\n\u001b[0m\u001b[0;32m     17\u001b[0m             \u001b[1;32mif\u001b[0m \u001b[0mtrain\u001b[0m\u001b[1;33m:\u001b[0m\u001b[1;33m\u001b[0m\u001b[1;33m\u001b[0m\u001b[0m\n\u001b[0;32m     18\u001b[0m                 \u001b[0mfile_paths\u001b[0m \u001b[1;33m=\u001b[0m \u001b[1;33m[\u001b[0m\u001b[0mos\u001b[0m\u001b[1;33m.\u001b[0m\u001b[0mpath\u001b[0m\u001b[1;33m.\u001b[0m\u001b[0mjoin\u001b[0m\u001b[1;33m(\u001b[0m\u001b[0mdir_path\u001b[0m\u001b[1;33m,\u001b[0m\u001b[0mfile\u001b[0m\u001b[1;33m)\u001b[0m \u001b[1;32mfor\u001b[0m \u001b[0mfile\u001b[0m \u001b[1;32min\u001b[0m \u001b[0mfiles\u001b[0m \u001b[1;32mif\u001b[0m \u001b[0mfile\u001b[0m\u001b[1;33m.\u001b[0m\u001b[0mendswith\u001b[0m\u001b[1;33m(\u001b[0m\u001b[1;34m'.jpg'\u001b[0m\u001b[1;33m)\u001b[0m\u001b[1;33m]\u001b[0m\u001b[1;33m[\u001b[0m\u001b[1;33m:\u001b[0m\u001b[1;33m-\u001b[0m\u001b[1;36m200\u001b[0m\u001b[1;33m]\u001b[0m\u001b[1;33m\u001b[0m\u001b[1;33m\u001b[0m\u001b[0m\n",
      "\u001b[1;31mFileNotFoundError\u001b[0m: [WinError 3] 系统找不到指定的路径。: 'E:\\\\abag\\\\Course\\\\Third semester 2\\\\project\\\\anime_dataset\\\\purple'"
     ]
    }
   ],
   "source": [
    "batch_size = 32\n",
    "\n",
    "train_dataset = Anime_Dataset()\n",
    "test_dataset = Anime_Dataset(False)\n",
    "\n",
    "train_loader = DataLoader(train_dataset, batch_size=batch_size, shuffle=True, drop_last=True)\n",
    "test_loader = DataLoader(test_dataset, batch_size=batch_size, shuffle=True, drop_last=True)"
   ]
  },
  {
   "cell_type": "code",
   "execution_count": 6,
   "metadata": {
    "scrolled": false
   },
   "outputs": [
    {
     "name": "stdout",
     "output_type": "stream",
     "text": [
      "the latest model has been load\n",
      "the latest model has been load\n"
     ]
    }
   ],
   "source": [
    "lr = 0.0001\n",
    "\n",
    "model = RES34()\n",
    "model.loadIfExist()\n",
    "if torch.cuda.is_available():\n",
    "    model = model.cuda()\n",
    "# print(model)\n",
    "optim = torch.optim.SGD(model.parameters(), lr=lr, momentum=0.9)\n",
    "loss_fn = torch.nn.CrossEntropyLoss()"
   ]
  },
  {
   "cell_type": "code",
   "execution_count": 18,
   "metadata": {
    "scrolled": true
   },
   "outputs": [
    {
     "name": "stdout",
     "output_type": "stream",
     "text": [
      "epoch   1, acc 0.8372\n",
      "epoch   2, acc 0.8621\n",
      "epoch   3, acc 0.8792\n"
     ]
    }
   ],
   "source": [
    "epochs = 3\n",
    "\n",
    "for e in range(epochs):\n",
    "    for batch_images, batch_labels in train_loader:\n",
    "        x = batch_images.cuda()\n",
    "        y = batch_labels.cuda()\n",
    "        output = model(x)\n",
    "        loss = loss_fn(output, y)\n",
    "        print('loss %5.4f' % loss.item(), end='\\r')\n",
    "        optim.zero_grad()\n",
    "        loss.backward()\n",
    "        optim.step()\n",
    "\n",
    "    model.train(False)\n",
    "    with torch.no_grad():\n",
    "        outputs = []\n",
    "        labels = []\n",
    "        for batch_images, batch_labels in test_loader:\n",
    "            output = model(batch_images.cuda())\n",
    "            outputs.append(output.data.cpu())\n",
    "            labels.append(batch_labels)\n",
    "        acc = calc_acc(torch.cat(labels, dim=0), torch.cat(outputs, dim=0))\n",
    "    print('epoch %3d, acc %5.4f' % (e + 1, acc))\n",
    "    model.train()"
   ]
  },
  {
   "cell_type": "code",
   "execution_count": 20,
   "metadata": {},
   "outputs": [],
   "source": [
    "model.save()"
   ]
  },
  {
   "cell_type": "code",
   "execution_count": 12,
   "metadata": {},
   "outputs": [],
   "source": [
    "PATH = 'E:\\\\abag\\\\Course\\\\Third semester 2\\\\project\\\\anime_face'\n",
    "\n",
    "class Anime_verify_Dataset(Dataset):\n",
    "    \n",
    "    def __init__(self):\n",
    "        \n",
    "        files = os.listdir(PATH)\n",
    "        self.paths = [os.path.join(PATH,image) for image in files if image.endswith('.jpg')]\n",
    "    \n",
    "    def __getitem__(self, index):\n",
    "        path = self.paths[index]\n",
    "        image = cv2.imread(self.paths[index])\n",
    "        image = cv2.resize(image, (64, 64))  # shape=[128, 128, 3]\n",
    "        image = image.transpose([2, 0, 1])  # shape=[3, 128, 128]\n",
    "        image = torch.tensor(image, dtype=torch.float32)\n",
    "        image = image / 128. - 1\n",
    "        \n",
    "        return image, path\n",
    "\n",
    "    def __len__(self):\n",
    "        return len(self.paths)"
   ]
  },
  {
   "cell_type": "code",
   "execution_count": 13,
   "metadata": {},
   "outputs": [],
   "source": [
    "verify_dataset = Anime_verify_Dataset()\n",
    "\n",
    "verify_loader = DataLoader(verify_dataset, batch_size=batch_size, shuffle=False)"
   ]
  },
  {
   "cell_type": "code",
   "execution_count": 14,
   "metadata": {
    "scrolled": false
   },
   "outputs": [],
   "source": [
    "model.train(False)\n",
    "with torch.no_grad():\n",
    "    colors = []\n",
    "    paths = []\n",
    "    for batch_images, batch_paths in verify_loader:\n",
    "        output = model(batch_images.cuda())\n",
    "        output = torch.argmax(output, dim=1)\n",
    "        colors.append(output)\n",
    "        paths.append(batch_paths)"
   ]
  },
  {
   "cell_type": "code",
   "execution_count": 15,
   "metadata": {},
   "outputs": [
    {
     "data": {
      "text/plain": [
       "(tensor([3, 9, 9, 3, 9, 7, 3, 9, 3, 4, 4, 3, 7, 9, 7, 3, 9, 9, 9, 7, 9, 2, 9, 3,\n",
       "         9, 7, 9, 6, 9, 9, 5, 9], device='cuda:0'),\n",
       " ('E:\\\\abag\\\\Course\\\\Third semester 2\\\\project\\\\anime_face\\\\0000003.jpg',\n",
       "  'E:\\\\abag\\\\Course\\\\Third semester 2\\\\project\\\\anime_face\\\\0000018.jpg',\n",
       "  'E:\\\\abag\\\\Course\\\\Third semester 2\\\\project\\\\anime_face\\\\0000021.jpg',\n",
       "  'E:\\\\abag\\\\Course\\\\Third semester 2\\\\project\\\\anime_face\\\\0000024.jpg',\n",
       "  'E:\\\\abag\\\\Course\\\\Third semester 2\\\\project\\\\anime_face\\\\0000027.jpg',\n",
       "  'E:\\\\abag\\\\Course\\\\Third semester 2\\\\project\\\\anime_face\\\\0000033.jpg',\n",
       "  'E:\\\\abag\\\\Course\\\\Third semester 2\\\\project\\\\anime_face\\\\0000034.jpg',\n",
       "  'E:\\\\abag\\\\Course\\\\Third semester 2\\\\project\\\\anime_face\\\\0000041.jpg',\n",
       "  'E:\\\\abag\\\\Course\\\\Third semester 2\\\\project\\\\anime_face\\\\0000050.jpg',\n",
       "  'E:\\\\abag\\\\Course\\\\Third semester 2\\\\project\\\\anime_face\\\\0000054.jpg',\n",
       "  'E:\\\\abag\\\\Course\\\\Third semester 2\\\\project\\\\anime_face\\\\0000058.jpg',\n",
       "  'E:\\\\abag\\\\Course\\\\Third semester 2\\\\project\\\\anime_face\\\\0000060.jpg',\n",
       "  'E:\\\\abag\\\\Course\\\\Third semester 2\\\\project\\\\anime_face\\\\0000075.jpg',\n",
       "  'E:\\\\abag\\\\Course\\\\Third semester 2\\\\project\\\\anime_face\\\\0000077.jpg',\n",
       "  'E:\\\\abag\\\\Course\\\\Third semester 2\\\\project\\\\anime_face\\\\0000078.jpg',\n",
       "  'E:\\\\abag\\\\Course\\\\Third semester 2\\\\project\\\\anime_face\\\\0000080.jpg',\n",
       "  'E:\\\\abag\\\\Course\\\\Third semester 2\\\\project\\\\anime_face\\\\0000102.jpg',\n",
       "  'E:\\\\abag\\\\Course\\\\Third semester 2\\\\project\\\\anime_face\\\\0000107.jpg',\n",
       "  'E:\\\\abag\\\\Course\\\\Third semester 2\\\\project\\\\anime_face\\\\0000108.jpg',\n",
       "  'E:\\\\abag\\\\Course\\\\Third semester 2\\\\project\\\\anime_face\\\\0000111.jpg',\n",
       "  'E:\\\\abag\\\\Course\\\\Third semester 2\\\\project\\\\anime_face\\\\0000115.jpg',\n",
       "  'E:\\\\abag\\\\Course\\\\Third semester 2\\\\project\\\\anime_face\\\\0000118.jpg',\n",
       "  'E:\\\\abag\\\\Course\\\\Third semester 2\\\\project\\\\anime_face\\\\0000119.jpg',\n",
       "  'E:\\\\abag\\\\Course\\\\Third semester 2\\\\project\\\\anime_face\\\\0000120.jpg',\n",
       "  'E:\\\\abag\\\\Course\\\\Third semester 2\\\\project\\\\anime_face\\\\0000137.jpg',\n",
       "  'E:\\\\abag\\\\Course\\\\Third semester 2\\\\project\\\\anime_face\\\\0000140.jpg',\n",
       "  'E:\\\\abag\\\\Course\\\\Third semester 2\\\\project\\\\anime_face\\\\0000143.jpg',\n",
       "  'E:\\\\abag\\\\Course\\\\Third semester 2\\\\project\\\\anime_face\\\\0000144.jpg',\n",
       "  'E:\\\\abag\\\\Course\\\\Third semester 2\\\\project\\\\anime_face\\\\0000151.jpg',\n",
       "  'E:\\\\abag\\\\Course\\\\Third semester 2\\\\project\\\\anime_face\\\\0000154.jpg',\n",
       "  'E:\\\\abag\\\\Course\\\\Third semester 2\\\\project\\\\anime_face\\\\0000157.jpg',\n",
       "  'E:\\\\abag\\\\Course\\\\Third semester 2\\\\project\\\\anime_face\\\\0000162.jpg'))"
      ]
     },
     "execution_count": 15,
     "metadata": {},
     "output_type": "execute_result"
    }
   ],
   "source": [
    "colors[0],paths[0]"
   ]
  },
  {
   "cell_type": "code",
   "execution_count": 16,
   "metadata": {},
   "outputs": [
    {
     "name": "stdout",
     "output_type": "stream",
     "text": [
      "进度：0.999\r"
     ]
    }
   ],
   "source": [
    "length = len(colors)\n",
    "for i in range(length):\n",
    "    color = colors[i].cpu().numpy()\n",
    "    color = [LABEL2COLOR[c] for c in color]\n",
    "    path = paths[i]\n",
    "    for j in range(len(color)):\n",
    "        img = cv2.imread(path[j])\n",
    "        name = 'E:\\\\abag\\\\Course\\\\Third semester 2\\\\project\\\\anime_dataset\\\\' + color[j]  + '\\\\face'+ str(i*16+j) + '.jpg'\n",
    "        cv2.imwrite(name,img)\n",
    "        os.remove(path[j])\n",
    "    per = i / length\n",
    "    print('进度：%4.3f'%per,  end='\\r')"
   ]
  },
  {
   "cell_type": "code",
   "execution_count": null,
   "metadata": {},
   "outputs": [],
   "source": []
  }
 ],
 "metadata": {
  "kernelspec": {
   "display_name": "Python 3",
   "language": "python",
   "name": "python3"
  },
  "language_info": {
   "codemirror_mode": {
    "name": "ipython",
    "version": 3
   },
   "file_extension": ".py",
   "mimetype": "text/x-python",
   "name": "python",
   "nbconvert_exporter": "python",
   "pygments_lexer": "ipython3",
   "version": "3.7.4"
  }
 },
 "nbformat": 4,
 "nbformat_minor": 2
}
