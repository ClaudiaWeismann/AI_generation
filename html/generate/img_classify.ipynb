{
 "cells": [
  {
   "cell_type": "code",
   "execution_count": 1,
   "metadata": {},
   "outputs": [
    {
     "ename": "ModuleNotFoundError",
     "evalue": "No module named 'playsound'",
     "output_type": "error",
     "traceback": [
      "\u001b[1;31m---------------------------------------------------------------------------\u001b[0m",
      "\u001b[1;31mModuleNotFoundError\u001b[0m                       Traceback (most recent call last)",
      "\u001b[1;32m<ipython-input-1-702dd92614ec>\u001b[0m in \u001b[0;36m<module>\u001b[1;34m\u001b[0m\n\u001b[0;32m      2\u001b[0m \u001b[1;32mimport\u001b[0m \u001b[0mcv2\u001b[0m\u001b[1;33m\u001b[0m\u001b[1;33m\u001b[0m\u001b[0m\n\u001b[0;32m      3\u001b[0m \u001b[1;32mimport\u001b[0m \u001b[0mnumpy\u001b[0m \u001b[1;32mas\u001b[0m \u001b[0mnp\u001b[0m\u001b[1;33m\u001b[0m\u001b[1;33m\u001b[0m\u001b[0m\n\u001b[1;32m----> 4\u001b[1;33m \u001b[1;32mfrom\u001b[0m \u001b[0mplaysound\u001b[0m \u001b[1;32mimport\u001b[0m \u001b[0mplaysound\u001b[0m\u001b[1;33m\u001b[0m\u001b[1;33m\u001b[0m\u001b[0m\n\u001b[0m",
      "\u001b[1;31mModuleNotFoundError\u001b[0m: No module named 'playsound'"
     ]
    }
   ],
   "source": [
    "import os\n",
    "import cv2\n",
    "import numpy as np\n",
    "from playsound import playsound"
   ]
  },
  {
   "cell_type": "code",
   "execution_count": 2,
   "metadata": {},
   "outputs": [],
   "source": [
    "def distinguish_BWG(path, idx):\n",
    "    img = cv2.imread(path)\n",
    "    hair = img[:110,:,:]\n",
    "    B_channel = hair[:,:,:1]\n",
    "    G_channel = hair[:,:,1:2]\n",
    "    R_channel = hair[:,:,2:]\n",
    "    B = np.mean(B_channel)\n",
    "    G = np.mean(G_channel)\n",
    "    R = np.mean(R_channel)\n",
    "    BGR = [B, G, R]\n",
    "    \n",
    "    \n",
    "    if np.abs(R-G)<20 and np.abs(B-G)<20 and np.abs(R-B)<20:\n",
    "        if np.min(BGR) < 100:\n",
    "            name = 'E:\\\\abag\\\\Course\\\\Third semester 2\\\\project\\\\anime_dataset\\\\black\\\\BWG' + str(idx) + '.jpg'\n",
    "            cv2.imwrite(name,img)\n",
    "            os.remove(path)\n",
    "        elif np.min(BGR) > 195:      \n",
    "            name = 'E:\\\\abag\\\\Course\\\\Third semester 2\\\\project\\\\anime_dataset\\\\white\\\\BWG' + str(idx) + '.jpg'\n",
    "            cv2.imwrite(name,img)\n",
    "            os.remove(path)\n",
    "        else:\n",
    "            name = 'E:\\\\abag\\\\Course\\\\Third semester 2\\\\project\\\\anime_dataset\\\\gray\\\\BWG' + str(idx) + '.jpg'\n",
    "            cv2.imwrite(name,img)\n",
    "            os.remove(path)"
   ]
  },
  {
   "cell_type": "code",
   "execution_count": 3,
   "metadata": {},
   "outputs": [],
   "source": [
    "def distinguish_BGR(path, idx):\n",
    "    img = cv2.imread(path)\n",
    "    hair = img[:110,:,:]\n",
    "    B_channel = hair[:,:,:1]\n",
    "    G_channel = hair[:,:,1:2]\n",
    "    R_channel = hair[:,:,2:]\n",
    "    B = np.mean(B_channel)\n",
    "    G = np.mean(G_channel)\n",
    "    R = np.mean(R_channel)\n",
    "    BGR = [B, G, R]\n",
    "    \n",
    "    \n",
    "    if B > 215:\n",
    "        if G < 80 and R <80:\n",
    "            name = 'E:\\\\abag\\\\Course\\\\Third semester 2\\\\project\\\\anime_dataset\\\\blue\\\\BGR' + str(idx) + '.jpg'\n",
    "            cv2.imwrite(name,img)\n",
    "            os.remove(path)\n",
    "    if G > 215:\n",
    "        if B < 80 and R <80:\n",
    "            name = 'E:\\\\abag\\\\Course\\\\Third semester 2\\\\project\\\\anime_dataset\\\\green\\\\BGR' + str(idx) + '.jpg'\n",
    "            cv2.imwrite(name,img)\n",
    "            os.remove(path)\n",
    "    if R > 215 :\n",
    "        if G < 80 and B <80:\n",
    "            name = 'E:\\\\abag\\\\Course\\\\Third semester 2\\\\project\\\\anime_dataset\\\\red\\\\BGR' + str(idx) + '.jpg'\n",
    "            cv2.imwrite(name,img)\n",
    "            os.remove(path)"
   ]
  },
  {
   "cell_type": "code",
   "execution_count": 4,
   "metadata": {},
   "outputs": [],
   "source": [
    "def distinguish_YPP(path, idx):\n",
    "    img = cv2.imread(path)\n",
    "    hair = img[:110,:,:]\n",
    "    B_channel = hair[:,:,:1]\n",
    "    G_channel = hair[:,:,1:2]\n",
    "    R_channel = hair[:,:,2:]\n",
    "    B = np.mean(B_channel)\n",
    "    G = np.mean(G_channel)\n",
    "    R = np.mean(R_channel)\n",
    "    BGR = [B, G, R]\n",
    "    \n",
    "            \n",
    "    if R >=200 and R <=225:\n",
    "        if (G-B) > 20:\n",
    "            name = 'E:\\\\abag\\\\Course\\\\Third semester 2\\\\project\\\\anime_dataset\\\\yellow\\\\' + 'YPP' + str(idx) + '.jpg'\n",
    "            cv2.imwrite(name,img)\n",
    "            os.remove(path)\n",
    "        elif (G-B) < -20:\n",
    "            name = 'E:\\\\abag\\\\Course\\\\Third semester 2\\\\project\\\\anime_dataset\\\\purple\\\\' + 'YPP' + str(idx) + '.jpg'\n",
    "            cv2.imwrite(name,img)\n",
    "            os.remove(path)\n",
    "        else:\n",
    "            name = 'E:\\\\abag\\\\Course\\\\Third semester 2\\\\project\\\\anime_dataset\\\\pink\\\\' + 'YPP' + str(idx) + '.jpg'\n",
    "            cv2.imwrite(name,img)\n",
    "            os.remove(path)"
   ]
  },
  {
   "cell_type": "code",
   "execution_count": 5,
   "metadata": {},
   "outputs": [],
   "source": [
    "def distinguish_CYP(path, idx):\n",
    "    img = cv2.imread(path)\n",
    "    hair = img[:110,:,:]\n",
    "    B_channel = hair[:,:,:1]\n",
    "    G_channel = hair[:,:,1:2]\n",
    "    R_channel = hair[:,:,2:]\n",
    "    B = np.mean(B_channel)\n",
    "    G = np.mean(G_channel)\n",
    "    R = np.mean(R_channel)\n",
    "    BGR = [B, G, R]\n",
    "    \n",
    "    if B > 215:\n",
    "        if G < 80 and R > 215:\n",
    "            if R < 240:\n",
    "                name = 'E:\\\\abag\\\\Course\\\\Third semester 2\\\\project\\\\anime_dataset\\\\purple\\\\' + 'CYP' + str(idx) + '.jpg'\n",
    "                cv2.imwrite(name,img)\n",
    "                os.remove(path)\n",
    "            else:\n",
    "                name = 'E:\\\\abag\\\\Course\\\\Third semester 2\\\\project\\\\anime_dataset\\\\pink\\\\' + 'CYP' + str(idx) + '.jpg'\n",
    "                cv2.imwrite(name,img)\n",
    "                os.remove(path)\n",
    "    if G > 215:\n",
    "        if B > 215 and R <80:\n",
    "            if (G - B) > 15:\n",
    "                name = 'E:\\\\abag\\\\Course\\\\Third semester 2\\\\project\\\\anime_dataset\\\\blue\\\\' + 'CYP' + str(idx) + '.jpg'\n",
    "                cv2.imwrite(name,img)\n",
    "                os.remove(path)\n",
    "            else:\n",
    "                name = 'E:\\\\abag\\\\Course\\\\Third semester 2\\\\project\\\\anime_dataset\\\\cyan\\\\' + 'CYP' + str(idx) + '.jpg'\n",
    "                cv2.imwrite(name,img)\n",
    "                os.remove(path)\n",
    "                \n",
    "    if R > 215 :\n",
    "        if G > 215 and B <80:\n",
    "            name = 'E:\\\\abag\\\\Course\\\\Third semester 2\\\\project\\\\anime_dataset\\\\yellow\\\\' + 'CYP' + str(idx) + '.jpg'\n",
    "            cv2.imwrite(name,img)\n",
    "            os.remove(path)"
   ]
  },
  {
   "cell_type": "code",
   "execution_count": 6,
   "metadata": {},
   "outputs": [],
   "source": [
    "def distinguish_rangeI(path, idx):\n",
    "    img = cv2.imread(path)\n",
    "    hair = img[:110,:,:]\n",
    "    B_channel = hair[:,:,:1]\n",
    "    G_channel = hair[:,:,1:2]\n",
    "    R_channel = hair[:,:,2:]\n",
    "    B = np.mean(B_channel)\n",
    "    G = np.mean(G_channel)\n",
    "    R = np.mean(R_channel)\n",
    "    BGR = [B, G, R]\n",
    "    \n",
    "    if B > 215:\n",
    "        if G < 80:\n",
    "            if R >=110 and R <= 215:\n",
    "                name = 'E:\\\\abag\\\\Course\\\\Third semester 2\\\\project\\\\anime_dataset\\\\purple\\\\' + 'rangeI' + str(idx) + '.jpg'\n",
    "                cv2.imwrite(name,img)\n",
    "                os.remove(path)\n",
    "            if R <= 110 and R >=80:\n",
    "                name = 'E:\\\\abag\\\\Course\\\\Third semester 2\\\\project\\\\anime_dataset\\\\blue\\\\' + 'rangeI' + str(idx) + '.jpg'\n",
    "                cv2.imwrite(name,img)\n",
    "                os.remove(path)\n",
    "        if R < 80:\n",
    "            if G >=205 and G <= 215:\n",
    "                name = 'E:\\\\abag\\\\Course\\\\Third semester 2\\\\project\\\\anime_dataset\\\\cyan\\\\' + 'rangeI' + str(idx) + '.jpg'\n",
    "                cv2.imwrite(name,img)\n",
    "                os.remove(path)\n",
    "            if G <= 205 and G >=80:\n",
    "                name = 'E:\\\\abag\\\\Course\\\\Third semester 2\\\\project\\\\anime_dataset\\\\blue\\\\' + 'rangeI' + str(idx) + '.jpg'\n",
    "                cv2.imwrite(name,img)\n",
    "                os.remove(path)\n",
    "            \n",
    "    if G > 215:\n",
    "        if B < 80:\n",
    "            if R >=210 and R <= 215:\n",
    "                name = 'E:\\\\abag\\\\Course\\\\Third semester 2\\\\project\\\\anime_dataset\\\\yellow\\\\' + 'rangeI' + str(idx) + '.jpg'\n",
    "                cv2.imwrite(name,img)\n",
    "                os.remove(path)\n",
    "            if R <= 210 and R >=80:\n",
    "                name = 'E:\\\\abag\\\\Course\\\\Third semester 2\\\\project\\\\anime_dataset\\\\green\\\\' + 'rangeI' + str(idx) + '.jpg'\n",
    "                cv2.imwrite(name,img)\n",
    "                os.remove(path)\n",
    "        if R < 80:\n",
    "            if B >=160 and B <= 215:\n",
    "                name = 'E:\\\\abag\\\\Course\\\\Third semester 2\\\\project\\\\anime_dataset\\\\cyan\\\\' + 'rangeI' + str(idx) + '.jpg'\n",
    "                cv2.imwrite(name,img)\n",
    "                os.remove(path)\n",
    "            if B <= 160 and B >=80:\n",
    "                name = 'E:\\\\abag\\\\Course\\\\Third semester 2\\\\project\\\\anime_dataset\\\\green\\\\' + 'rangeI' + str(idx) + '.jpg'\n",
    "                cv2.imwrite(name,img)\n",
    "                os.remove(path)\n",
    "                \n",
    "    if R > 215 :\n",
    "        if B < 80:\n",
    "            if G >=155 and G <= 215:\n",
    "                name = 'E:\\\\abag\\\\Course\\\\Third semester 2\\\\project\\\\anime_dataset\\\\yellow\\\\' + 'rangeI' + str(idx) + '.jpg'\n",
    "                cv2.imwrite(name,img)\n",
    "                os.remove(path)\n",
    "            if G <= 155 and G >=90:\n",
    "                name = 'E:\\\\abag\\\\Course\\\\Third semester 2\\\\project\\\\anime_dataset\\\\orange\\\\' + 'rangeI' + str(idx) + '.jpg'\n",
    "                cv2.imwrite(name,img)\n",
    "                os.remove(path)\n",
    "            if G <= 90 and G >=80:\n",
    "                name = 'E:\\\\abag\\\\Course\\\\Third semester 2\\\\project\\\\anime_dataset\\\\red\\\\' + 'rangeI' + str(idx) + '.jpg'\n",
    "                cv2.imwrite(name,img)\n",
    "                os.remove(path)\n",
    "        if G < 80:\n",
    "            if B >=110 and B <= 215:\n",
    "                name = 'E:\\\\abag\\\\Course\\\\Third semester 2\\\\project\\\\anime_dataset\\\\purple\\\\' + 'rangeI' + str(idx) + '.jpg'\n",
    "                cv2.imwrite(name,img)\n",
    "                os.remove(path)\n",
    "            if B <= 110 and B >=80:\n",
    "                name = 'E:\\\\abag\\\\Course\\\\Third semester 2\\\\project\\\\anime_dataset\\\\red\\\\' + 'rangeI' + str(idx) + '.jpg'\n",
    "                cv2.imwrite(name,img)\n",
    "                os.remove(path)"
   ]
  },
  {
   "cell_type": "code",
   "execution_count": 8,
   "metadata": {},
   "outputs": [],
   "source": [
    "def distinguish_rangeII(path, idx):\n",
    "    img = cv2.imread(path)\n",
    "    hair = img[:110,:,:]\n",
    "    B_channel = hair[:,:,:1]\n",
    "    G_channel = hair[:,:,1:2]\n",
    "    R_channel = hair[:,:,2:]\n",
    "    B = np.mean(B_channel)\n",
    "    G = np.mean(G_channel)\n",
    "    R = np.mean(R_channel)\n",
    "    BGR = [B, G, R]\n",
    "            \n",
    "    if G < 80:\n",
    "        if B < 80:\n",
    "            if R >=150 and R <= 215:\n",
    "                name = 'E:\\\\abag\\\\Course\\\\Third semester 2\\\\project\\\\anime_dataset\\\\red\\\\' + 'rangeII' + str(idx) + '.jpg'\n",
    "                cv2.imwrite(name,img)\n",
    "                os.remove(path)\n",
    "            elif R <= 210 and R >=80:\n",
    "                name = 'E:\\\\abag\\\\Course\\\\Third semester 2\\\\project\\\\anime_dataset\\\\brown\\\\' + 'rangeII' + str(idx) + '.jpg'\n",
    "                cv2.imwrite(name,img)\n",
    "                os.remove(path)\n",
    "    if R < 80 :\n",
    "        if B < 80:\n",
    "            if G >=80 and G <= 215:\n",
    "                name = 'E:\\\\abag\\\\Course\\\\Third semester 2\\\\project\\\\anime_dataset\\\\green\\\\' + 'rangeII' + str(idx) + '.jpg'\n",
    "                cv2.imwrite(name,img)\n",
    "                os.remove(path)\n",
    "                \n",
    "        if G < 80:\n",
    "            if B >=95 and B <= 215:\n",
    "                if R<57 and G>70:\n",
    "                    name = 'E:\\\\abag\\\\Course\\\\Third semester 2\\\\project\\\\anime_dataset\\\\green\\\\' + 'rangeII' + str(idx) + '.jpg'\n",
    "                    cv2.imwrite(name,img)\n",
    "                    os.remove(path)\n",
    "                else:\n",
    "                    name = 'E:\\\\abag\\\\Course\\\\Third semester 2\\\\project\\\\anime_dataset\\\\blue\\\\' + 'rangeII' + str(idx) + '.jpg'\n",
    "                    cv2.imwrite(name,img)\n",
    "                    os.remove(path)\n",
    "                    \n",
    "            if B <= 95 and B >=80:\n",
    "                name = 'E:\\\\abag\\\\Course\\\\Third semester 2\\\\project\\\\anime_dataset\\\\purple\\\\' + 'rangeII' + str(idx) + '.jpg'\n",
    "                cv2.imwrite(name,img)\n",
    "                os.remove(path)"
   ]
  },
  {
   "cell_type": "markdown",
   "metadata": {},
   "source": [
    "distinguish_BWG\n",
    "distinguish_BGR\n",
    "distinguish_CYP\n",
    "distinguish_rangeI\n",
    "distinguish_rangeII"
   ]
  },
  {
   "cell_type": "code",
   "execution_count": 8,
   "metadata": {},
   "outputs": [
    {
     "name": "stdout",
     "output_type": "stream",
     "text": [
      "进度：100.00\r"
     ]
    }
   ],
   "source": [
    "root = 'E:\\\\abag\\\\Course\\\\Third semester 2\\\\project\\\\anime_face'\n",
    "\n",
    "\n",
    "files = os.listdir(root)\n",
    "img = [image for image in files]\n",
    "images = [os.path.join(root,image) for image in img]\n",
    "\n",
    "\n",
    "num = len(files)\n",
    "for i in range(num):\n",
    "    distinguish_BWG(images[i], i)\n",
    "    t = (i / num) * 100\n",
    "    print(\"进度：%2.2f\" % t, end='\\r')"
   ]
  },
  {
   "cell_type": "code",
   "execution_count": null,
   "metadata": {},
   "outputs": [
    {
     "name": "stdout",
     "output_type": "stream",
     "text": [
      "进度：3.41\r"
     ]
    }
   ],
   "source": [
    "root = 'E:\\\\abag\\\\Course\\\\Third semester 2\\\\project\\\\anime_face'\n",
    "\n",
    "\n",
    "files = os.listdir(root)\n",
    "img = [image for image in files]\n",
    "images = [os.path.join(root,image) for image in img]\n",
    "\n",
    "\n",
    "num = len(files)\n",
    "for i in range(num):\n",
    "    distinguish_BGR(images[i], i)\n",
    "    t = (i / num) * 100\n",
    "    print(\"进度：%2.2f\" % t, end='\\r')"
   ]
  },
  {
   "cell_type": "code",
   "execution_count": 9,
   "metadata": {},
   "outputs": [
    {
     "name": "stdout",
     "output_type": "stream",
     "text": [
      "进度：100.00\r"
     ]
    }
   ],
   "source": [
    "root = 'E:\\\\abag\\\\Course\\\\Third semester 2\\\\project\\\\anime_face'\n",
    "\n",
    "\n",
    "files = os.listdir(root)\n",
    "img = [image for image in files]\n",
    "images = [os.path.join(root,image) for image in img]\n",
    "\n",
    "\n",
    "num = len(files)\n",
    "for i in range(num):\n",
    "    distinguish_YPP(images[i], i)\n",
    "    t = (i / num) * 100\n",
    "    print(\"进度：%2.2f\" % t, end='\\r')"
   ]
  },
  {
   "cell_type": "code",
   "execution_count": 10,
   "metadata": {},
   "outputs": [
    {
     "name": "stdout",
     "output_type": "stream",
     "text": [
      "进度：100.00\r"
     ]
    }
   ],
   "source": [
    "root = 'E:\\\\abag\\\\Course\\\\Third semester 2\\\\project\\\\anime_face'\n",
    "\n",
    "\n",
    "files = os.listdir(root)\n",
    "img = [image for image in files]\n",
    "images = [os.path.join(root,image) for image in img]\n",
    "\n",
    "\n",
    "num = len(files)\n",
    "for i in range(num):\n",
    "    distinguish_CYP(images[i], i)\n",
    "    t = (i / num) * 100\n",
    "    print(\"进度：%2.2f\" % t, end='\\r')"
   ]
  },
  {
   "cell_type": "code",
   "execution_count": 11,
   "metadata": {},
   "outputs": [
    {
     "name": "stdout",
     "output_type": "stream",
     "text": [
      "进度：100.00\r"
     ]
    }
   ],
   "source": [
    "root = 'E:\\\\abag\\\\Course\\\\Third semester 2\\\\project\\\\anime_face'\n",
    "\n",
    "\n",
    "files = os.listdir(root)\n",
    "img = [image for image in files]\n",
    "images = [os.path.join(root,image) for image in img]\n",
    "\n",
    "\n",
    "num = len(files)\n",
    "for i in range(num):\n",
    "    distinguish_rangeI(images[i], i)\n",
    "    t = (i / num) * 100\n",
    "    print(\"进度：%2.2f\" % t, end='\\r')"
   ]
  },
  {
   "cell_type": "code",
   "execution_count": 12,
   "metadata": {
    "scrolled": true
   },
   "outputs": [
    {
     "name": "stdout",
     "output_type": "stream",
     "text": [
      "进度：100.00\r"
     ]
    }
   ],
   "source": [
    "root = 'E:\\\\abag\\\\Course\\\\Third semester 2\\\\project\\\\anime_face'\n",
    "\n",
    "\n",
    "files = os.listdir(root)\n",
    "img = [image for image in files]\n",
    "images = [os.path.join(root,image) for image in img]\n",
    "\n",
    "\n",
    "num = len(files)\n",
    "for i in range(num):\n",
    "    distinguish_rangeII(images[i], i+200)\n",
    "    t = (i / num) * 100\n",
    "    print(\"进度：%2.2f\" % t, end='\\r')"
   ]
  },
  {
   "cell_type": "code",
   "execution_count": null,
   "metadata": {},
   "outputs": [],
   "source": [
    "playsound('E:\\\\abag\\\\audio\\\\Grade skipping.mp3')"
   ]
  },
  {
   "cell_type": "code",
   "execution_count": null,
   "metadata": {},
   "outputs": [],
   "source": []
  },
  {
   "cell_type": "code",
   "execution_count": null,
   "metadata": {},
   "outputs": [],
   "source": []
  },
  {
   "cell_type": "code",
   "execution_count": 1,
   "metadata": {},
   "outputs": [],
   "source": [
    "import os\n",
    "import cv2\n",
    "import numpy as np\n",
    "from playsound import playsound"
   ]
  },
  {
   "cell_type": "code",
   "execution_count": 8,
   "metadata": {},
   "outputs": [],
   "source": [
    "def distinguish_brown(path, idx):\n",
    "    img = cv2.imread(path)\n",
    "    hair = img[:110,:,:]\n",
    "    B_channel = hair[:,:,:1]\n",
    "    G_channel = hair[:,:,1:2]\n",
    "    R_channel = hair[:,:,2:]\n",
    "    B = np.mean(B_channel)\n",
    "    G = np.mean(G_channel)\n",
    "    R = np.mean(R_channel)\n",
    "    BGR = [B, G, R]\n",
    "    \n",
    "    \n",
    "#     if (R - G) > 55:\n",
    "#         if np.abs(G - B) < 10:\n",
    "#                 name = 'E:\\\\abag\\\\Course\\\\Third semester 2\\\\project\\\\anime_dataset\\\\brown1\\\\' + 'brown2' + str(idx) + '.jpg'\n",
    "#                 cv2.imwrite(name,img)\n",
    "#                 os.remove(path)\n",
    "    \n",
    "    \n",
    "    if (R - G) > 55:\n",
    "        if G - B < 15 and G - B > 0:\n",
    "                name = 'E:\\\\abag\\\\Course\\\\Third semester 2\\\\project\\\\anime_dataset\\\\brown1\\\\' + 'brown2' + str(idx) + '.jpg'\n",
    "                cv2.imwrite(name,img)\n",
    "                os.remove(path)"
   ]
  },
  {
   "cell_type": "code",
   "execution_count": 9,
   "metadata": {
    "scrolled": true
   },
   "outputs": [
    {
     "name": "stdout",
     "output_type": "stream",
     "text": [
      "进度：100.00\r"
     ]
    }
   ],
   "source": [
    "root = 'E:\\\\abag\\\\Course\\\\Third semester 2\\\\project\\\\anime_face'\n",
    "\n",
    "\n",
    "files = os.listdir(root)\n",
    "img = [image for image in files]\n",
    "images = [os.path.join(root,image) for image in img]\n",
    "\n",
    "\n",
    "num = len(files)\n",
    "for i in range(num):\n",
    "    distinguish_brown(images[i], i+200)\n",
    "    t = (i / num) * 100\n",
    "    print(\"进度：%2.2f\" % t, end='\\r')"
   ]
  },
  {
   "cell_type": "code",
   "execution_count": 4,
   "metadata": {},
   "outputs": [],
   "source": [
    "def distinguish_b2rpb(path, idx):\n",
    "    img = cv2.imread(path)\n",
    "    hair = img[:110,:,:]\n",
    "    B_channel = hair[:,:,:1]\n",
    "    G_channel = hair[:,:,1:2]\n",
    "    R_channel = hair[:,:,2:]\n",
    "    B = np.mean(B_channel)\n",
    "    G = np.mean(G_channel)\n",
    "    R = np.mean(R_channel)\n",
    "    BGR = [B, G, R]\n",
    "    \n",
    "    \n",
    "#     if R < 110:\n",
    "#         if R - G < 50:\n",
    "#             name = 'E:\\\\abag\\\\Course\\\\Third semester 2\\\\project\\\\anime_dataset\\\\black1\\\\' + '0b2rpb' + str(idx) + '.jpg'\n",
    "#             cv2.imwrite(name,img)\n",
    "#             os.remove(path)\n",
    "#     elif R > 220:\n",
    "#         if R - G < 100:\n",
    "#             name = 'E:\\\\abag\\\\Course\\\\Third semester 2\\\\project\\\\anime_dataset\\\\pink1\\\\' + '0b2rpb' + str(idx) + '.jpg'\n",
    "#             cv2.imwrite(name,img)\n",
    "#             os.remove(path)\n",
    "    if R > 166:\n",
    "        if R - G > 100:\n",
    "            name = 'E:\\\\abag\\\\Course\\\\Third semester 2\\\\project\\\\anime_dataset\\\\red1\\\\' + '0b2rpb1.' + str(idx) + '.jpg'\n",
    "            cv2.imwrite(name,img)\n",
    "            os.remove(path)"
   ]
  },
  {
   "cell_type": "code",
   "execution_count": null,
   "metadata": {},
   "outputs": [
    {
     "name": "stdout",
     "output_type": "stream",
     "text": [
      "进度：75.11\r"
     ]
    }
   ],
   "source": [
    "root = 'E:\\\\abag\\\\Course\\\\Third semester 2\\\\project\\\\5m_dataset\\\\brown\\\\'\n",
    "\n",
    "\n",
    "files = os.listdir(root)\n",
    "img = [image for image in files]\n",
    "images = [os.path.join(root,image) for image in img]\n",
    "\n",
    "\n",
    "num = len(files)\n",
    "for i in range(num):\n",
    "    distinguish_b2rpb(images[i], i+200)\n",
    "    t = (i / num) * 100\n",
    "    print(\"进度：%2.2f\" % t, end='\\r')"
   ]
  },
  {
   "cell_type": "code",
   "execution_count": 8,
   "metadata": {
    "scrolled": true
   },
   "outputs": [],
   "source": [
    "def distinguish_y2rbgb(path, idx):\n",
    "    img = cv2.imread(path)\n",
    "    hair = img[:110,:,:]\n",
    "    B_channel = hair[:,:,:1]\n",
    "    G_channel = hair[:,:,1:2]\n",
    "    R_channel = hair[:,:,2:]\n",
    "    B = np.mean(B_channel)\n",
    "    G = np.mean(G_channel)\n",
    "    R = np.mean(R_channel)\n",
    "    BGR = [B, G, R]\n",
    "    \n",
    "    if (R - G) > 50:\n",
    "        if R > 220 and np.abs(G - B) < 15:\n",
    "            if R - G < 100:\n",
    "                name = 'E:\\\\abag\\\\Course\\\\Third semester 2\\\\project\\\\anime_dataset\\\\pink1\\\\' + 'y2rbgb1.' + str(idx) + '.jpg'\n",
    "                cv2.imwrite(name,img)\n",
    "                os.remove(path)\n",
    "        elif R > 166 and B - G < 25 and B - G > 15:\n",
    "            if R - G > 110:\n",
    "                name = 'E:\\\\abag\\\\Course\\\\Third semester 2\\\\project\\\\anime_dataset\\\\red1\\\\' + 'y2rbgb1.' + str(idx) + '.jpg'\n",
    "                cv2.imwrite(name,img)\n",
    "                os.remove(path)\n",
    "    elif R > 100 and (R - G) > 50 and G - B < 20 and G - B > 0:\n",
    "        name = 'E:\\\\abag\\\\Course\\\\Third semester 2\\\\project\\\\anime_dataset\\\\brown1\\\\' + 'y2rbgb1.' + str(idx) + '.jpg'\n",
    "        cv2.imwrite(name,img)\n",
    "        os.remove(path)\n",
    "    elif G - R > 3  and G - B > 20 and G > 170:\n",
    "        name = 'E:\\\\abag\\\\Course\\\\Third semester 2\\\\project\\\\anime_dataset\\\\green1\\\\' + 'y2rbgb1.' + str(idx) + '.jpg'\n",
    "        cv2.imwrite(name,img)\n",
    "        os.remove(path)\n",
    "#     elif (R - G) > 50 and (G - B) > 50:\n",
    "#         name = 'E:\\\\abag\\\\Course\\\\Third semester 2\\\\project\\\\anime_dataset\\\\orange1\\\\' + 'y2rbgb' + str(idx) + '.jpg'\n",
    "#         cv2.imwrite(name,img)\n",
    "#         os.remove(path)\n",
    "#     elif B - G > 3 and G - R > 20:\n",
    "#         name = 'E:\\\\abag\\\\Course\\\\Third semester 2\\\\project\\\\anime_dataset\\\\blue1\\\\' + 'y2rbgb' + str(idx) + '.jpg'\n",
    "#         cv2.imwrite(name,img)\n",
    "#         os.remove(path)\n",
    "#     elif R - G > 0 and R - G < 20 and G - B > 0 and G - B < 20:\n",
    "#         name = 'E:\\\\abag\\\\Course\\\\Third semester 2\\\\project\\\\anime_dataset\\\\gray1\\\\' + 'y2rbgb' + str(idx) + '.jpg'\n",
    "#         cv2.imwrite(name,img)\n",
    "#         os.remove(path)"
   ]
  },
  {
   "cell_type": "code",
   "execution_count": 9,
   "metadata": {},
   "outputs": [
    {
     "name": "stdout",
     "output_type": "stream",
     "text": [
      "进度：99.99\r"
     ]
    }
   ],
   "source": [
    "root = 'E:\\\\abag\\\\Course\\\\Third semester 2\\\\project\\\\anime_dataset\\\\yellow'\n",
    "\n",
    "\n",
    "files = os.listdir(root)\n",
    "img = [image for image in files]\n",
    "images = [os.path.join(root,image) for image in img]\n",
    "\n",
    "\n",
    "num = len(files)\n",
    "for i in range(num):\n",
    "    distinguish_y2rbgb(images[i], i)\n",
    "    t = (i / num) * 100\n",
    "    print(\"进度：%2.2f\" % t, end='\\r')"
   ]
  },
  {
   "cell_type": "code",
   "execution_count": 16,
   "metadata": {
    "scrolled": true
   },
   "outputs": [],
   "source": [
    "def distinguish_p2n(path, idx):\n",
    "    img = cv2.imread(path)\n",
    "    hair = img[:110,:,:]\n",
    "    B_channel = hair[:,:,:1]\n",
    "    G_channel = hair[:,:,1:2]\n",
    "    R_channel = hair[:,:,2:]\n",
    "    B = np.mean(B_channel)\n",
    "    G = np.mean(G_channel)\n",
    "    R = np.mean(R_channel)\n",
    "    BGR = [B, G, R]\n",
    "    \n",
    "    if (R - G) > 50 and R - G < 100 and R > 210 and np.abs(G - B) < 30:\n",
    "                name = 'E:\\\\abag\\\\Course\\\\Third semester 2\\\\project\\\\anime_dataset\\\\pink1\\\\' + 'p2n3.' + str(idx) + '.jpg'\n",
    "                cv2.imwrite(name,img)\n",
    "                os.remove(path)\n",
    "    elif R > 150 and np.abs(G - B) < 30 and R - G > 90:\n",
    "        name = 'E:\\\\abag\\\\Course\\\\Third semester 2\\\\project\\\\anime_dataset\\\\red1\\\\' + 'p2n3.' + str(idx) + '.jpg'\n",
    "        cv2.imwrite(name,img)\n",
    "        os.remove(path)\n",
    "    elif (R - G) > 25 and (G - B) > 25:\n",
    "        name = 'E:\\\\abag\\\\Course\\\\Third semester 2\\\\project\\\\anime_dataset\\\\orange1\\\\' + 'p2n3.' + str(idx) + '.jpg'\n",
    "        cv2.imwrite(name,img)\n",
    "        os.remove(path)\n",
    "#     elif (R - G) > 50 and G - B < 25 and G - B > -3:\n",
    "#         name = 'E:\\\\abag\\\\Course\\\\Third semester 2\\\\project\\\\anime_dataset\\\\brown1\\\\' + 'p2n2.' + str(idx) + '.jpg'\n",
    "#         cv2.imwrite(name,img)\n",
    "#         os.remove(path)\n",
    "    elif B - G >= 30 and R - G > 15 and (B - G)/(B - R)>2:\n",
    "        name = 'E:\\\\abag\\\\Course\\\\Third semester 2\\\\project\\\\anime_dataset\\\\purple1\\\\' + 'p2n3.' + str(idx) + '.jpg'\n",
    "        cv2.imwrite(name,img)\n",
    "        os.remove(path)\n",
    "    elif (R - G)/(R - B)>1.3:\n",
    "        name = 'E:\\\\abag\\\\Course\\\\Third semester 2\\\\project\\\\anime_dataset\\\\yellow1\\\\' + 'p2n3.' + str(idx) + '.jpg'\n",
    "        cv2.imwrite(name,img)\n",
    "        os.remove(path)\n",
    "#     elif np.abs(R - G) < 20 and np.abs(B - G) < 20 and np.abs(R - B) < 20:\n",
    "#         if R > 210:\n",
    "#             name = 'E:\\\\abag\\\\Course\\\\Third semester 2\\\\project\\\\anime_dataset\\\\white1\\\\' + 'p2n' + str(idx) + '.jpg'\n",
    "#             cv2.imwrite(name,img)\n",
    "#             os.remove(path)\n",
    "#     elif np.abs(R - G) < 40 and np.abs(B - G) < 40 and np.abs(R - B) < 40:\n",
    "#         name = 'E:\\\\abag\\\\Course\\\\Third semester 2\\\\project\\\\anime_dataset\\\\gray1\\\\' + 'p2n' + str(idx) + '.jpg'\n",
    "#         cv2.imwrite(name,img)\n",
    "#         os.remove(path)\n",
    "#     elif G - B >= 0 and G - R > 15 and (B - G)/(B - R) > 3:\n",
    "#         name = 'E:\\\\abag\\\\Course\\\\Third semester 2\\\\project\\\\anime_dataset\\\\cyan1\\\\' + 'p2n' + str(idx) + '.jpg'\n",
    "#         cv2.imwrite(name,img)\n",
    "#         os.remove(path)\n",
    "#     elif G - R >= 0  and G - B > 20 and G > 170:\n",
    "#         name = 'E:\\\\abag\\\\Course\\\\Third semester 2\\\\project\\\\anime_dataset\\\\green1\\\\' + 'p2n' + str(idx) + '.jpg'\n",
    "#         cv2.imwrite(name,img)\n",
    "#         os.remove(path)\n",
    "#     elif B - G > 0 and G - R > 20:\n",
    "#         name = 'E:\\\\abag\\\\Course\\\\Third semester 2\\\\project\\\\anime_dataset\\\\blue1\\\\' + 'p2n' + str(idx) + '.jpg'\n",
    "#         cv2.imwrite(name,img)\n",
    "#         os.remove(path)"
   ]
  },
  {
   "cell_type": "code",
   "execution_count": null,
   "metadata": {},
   "outputs": [
    {
     "name": "stdout",
     "output_type": "stream",
     "text": [
      "进度：17.10\r"
     ]
    }
   ],
   "source": [
    "root = 'E:\\\\abag\\\\Course\\\\Third semester 2\\\\project\\\\anime_face'\n",
    "\n",
    "\n",
    "files = os.listdir(root)\n",
    "img = [image for image in files]\n",
    "images = [os.path.join(root,image) for image in img]\n",
    "\n",
    "\n",
    "num = len(files)\n",
    "for i in range(num):\n",
    "    distinguish_yellow(images[i], i+200)\n",
    "    t = (i / num) * 100\n",
    "    print(\"进度：%2.2f\" % t, end='\\r')"
   ]
  },
  {
   "cell_type": "code",
   "execution_count": 19,
   "metadata": {},
   "outputs": [],
   "source": [
    "def distinguish_pb(path, idx):\n",
    "    img = cv2.imread(path)\n",
    "    hair = img[:110,:,:]\n",
    "    B_channel = hair[:,:,:1]\n",
    "    G_channel = hair[:,:,1:2]\n",
    "    R_channel = hair[:,:,2:]\n",
    "    B = np.mean(B_channel)\n",
    "    G = np.mean(G_channel)\n",
    "    R = np.mean(R_channel)\n",
    "    BGR = [B, G, R]\n",
    "    \n",
    "    if (R - G) > 50 and R - G < 100 and R > 190 and np.abs(G - B) < 30:\n",
    "        name = 'E:\\\\abag\\\\Course\\\\Third semester 2\\\\project\\\\anime_dataset\\\\pink2\\\\' + 'pb' + str(idx) + '.jpg'\n",
    "        cv2.imwrite(name,img)\n",
    "        os.remove(path)\n",
    "    elif R - G < 50:\n",
    "        name = 'E:\\\\abag\\\\Course\\\\Third semester 2\\\\project\\\\anime_dataset\\\\pink1\\\\' + 'pb' + str(idx) + '.jpg'\n",
    "        cv2.imwrite(name,img)\n",
    "        os.remove(path)\n",
    "    elif (R - G) > 50:\n",
    "        name = 'E:\\\\abag\\\\Course\\\\Third semester 2\\\\project\\\\anime_dataset\\\\brown1\\\\' + 'pb' + str(idx) + '.jpg'\n",
    "        cv2.imwrite(name,img)\n",
    "        os.remove(path)"
   ]
  },
  {
   "cell_type": "code",
   "execution_count": 20,
   "metadata": {},
   "outputs": [
    {
     "name": "stdout",
     "output_type": "stream",
     "text": [
      "进度：99.95\r"
     ]
    }
   ],
   "source": [
    "root = 'E:\\\\abag\\\\Course\\\\Third semester 2\\\\project\\\\anime_dataset\\\\pink'\n",
    "\n",
    "\n",
    "files = os.listdir(root)\n",
    "img = [image for image in files]\n",
    "images = [os.path.join(root,image) for image in img]\n",
    "\n",
    "\n",
    "num = len(files)\n",
    "for i in range(num):\n",
    "    distinguish_pb(images[i], i)\n",
    "    t = (i / num) * 100\n",
    "    print(\"进度：%2.2f\" % t, end='\\r')"
   ]
  },
  {
   "cell_type": "code",
   "execution_count": 2,
   "metadata": {},
   "outputs": [],
   "source": [
    "def distinguish_pink(path, idx):\n",
    "    img = cv2.imread(path)\n",
    "    hair = img[:110,:,:]\n",
    "    B_channel = hair[:,:,:1]\n",
    "    G_channel = hair[:,:,1:2]\n",
    "    R_channel = hair[:,:,2:]\n",
    "    B = np.mean(B_channel)\n",
    "    G = np.mean(G_channel)\n",
    "    R = np.mean(R_channel)\n",
    "    BGR = [B, G, R]\n",
    "    \n",
    "    if (R - G) > 50 and R - G < 100 and R > 190 and np.abs(G - B) < 30:\n",
    "        name = 'E:\\\\abag\\\\Course\\\\Third semester 2\\\\project\\\\anime_dataset\\\\pink1\\\\' + 'pink' + str(idx) + '.jpg'\n",
    "        cv2.imwrite(name,img)\n",
    "        os.remove(path)"
   ]
  },
  {
   "cell_type": "code",
   "execution_count": 3,
   "metadata": {},
   "outputs": [
    {
     "name": "stdout",
     "output_type": "stream",
     "text": [
      "进度：100.00\r"
     ]
    }
   ],
   "source": [
    "root = 'E:\\\\abag\\\\Course\\\\Third semester 2\\\\project\\\\anime_face'\n",
    "\n",
    "\n",
    "files = os.listdir(root)\n",
    "img = [image for image in files]\n",
    "images = [os.path.join(root,image) for image in img]\n",
    "\n",
    "\n",
    "num = len(files)\n",
    "for i in range(num):\n",
    "    distinguish_pink(images[i], i+200)\n",
    "    t = (i / num) * 100\n",
    "    print(\"进度：%2.2f\" % t, end='\\r')"
   ]
  },
  {
   "cell_type": "code",
   "execution_count": 4,
   "metadata": {},
   "outputs": [],
   "source": [
    "def distinguish_p2o(path, idx):\n",
    "    img = cv2.imread(path)\n",
    "    hair = img[:110,:,:]\n",
    "    B_channel = hair[:,:,:1]\n",
    "    G_channel = hair[:,:,1:2]\n",
    "    R_channel = hair[:,:,2:]\n",
    "    B = np.mean(B_channel)\n",
    "    G = np.mean(G_channel)\n",
    "    R = np.mean(R_channel)\n",
    "    BGR = [B, G, R]\n",
    "    \n",
    "    if (R - G) > 25 and (G - B) > 25:\n",
    "        name = 'E:\\\\abag\\\\Course\\\\Third semester 2\\\\project\\\\anime_dataset\\\\orange1\\\\' + 'p2o' + str(idx) + '.jpg'\n",
    "        cv2.imwrite(name,img)\n",
    "        os.remove(path)\n",
    "    elif (R - G) > 50 and G - B < 25 and G - B > -3 and R < 195:\n",
    "        name = 'E:\\\\abag\\\\Course\\\\Third semester 2\\\\project\\\\anime_dataset\\\\brown1\\\\' + 'p2o2' + str(idx) + '.jpg'\n",
    "        cv2.imwrite(name,img)\n",
    "        os.remove(path)\n",
    "#     elif B - G >= 30 and R - G > 15 and (B - G)/(B - R)>2:\n",
    "#         name = 'E:\\\\abag\\\\Course\\\\Third semester 2\\\\project\\\\anime_dataset\\\\purple1\\\\' + 'p2o' + str(idx) + '.jpg'\n",
    "#         cv2.imwrite(name,img)\n",
    "#         os.remove(path)\n",
    "#     elif (R - G)/(R - B)>4:\n",
    "#         name = 'E:\\\\abag\\\\Course\\\\Third semester 2\\\\project\\\\anime_dataset\\\\yellow1\\\\' + 'p2o' + str(idx) + '.jpg'\n",
    "#         cv2.imwrite(name,img)\n",
    "#         os.remove(path)"
   ]
  },
  {
   "cell_type": "code",
   "execution_count": 5,
   "metadata": {},
   "outputs": [
    {
     "name": "stdout",
     "output_type": "stream",
     "text": [
      "进度：99.97\r"
     ]
    }
   ],
   "source": [
    "root = 'E:\\\\abag\\\\Course\\\\Third semester 2\\\\project\\\\anime_dataset\\\\pink1'\n",
    "\n",
    "\n",
    "files = os.listdir(root)\n",
    "img = [image for image in files]\n",
    "images = [os.path.join(root,image) for image in img]\n",
    "\n",
    "\n",
    "num = len(files)\n",
    "for i in range(num):\n",
    "    distinguish_p2o(images[i], i+200)\n",
    "    t = (i / num) * 100\n",
    "    print(\"进度：%2.2f\" % t, end='\\r')"
   ]
  },
  {
   "cell_type": "code",
   "execution_count": 13,
   "metadata": {},
   "outputs": [
    {
     "name": "stdout",
     "output_type": "stream",
     "text": [
      "进度：99.72\r"
     ]
    }
   ],
   "source": [
    "def distinguish_p2b(path, idx):\n",
    "    img = cv2.imread(path)\n",
    "    hair = img[:110,:,:]\n",
    "    B_channel = hair[:,:,:1]\n",
    "    G_channel = hair[:,:,1:2]\n",
    "    R_channel = hair[:,:,2:]\n",
    "    B = np.mean(B_channel)\n",
    "    G = np.mean(G_channel)\n",
    "    R = np.mean(R_channel)\n",
    "    BGR = [B, G, R]\n",
    "    \n",
    "\n",
    "    if R - G > 80:\n",
    "        name = 'E:\\\\abag\\\\Course\\\\Third semester 2\\\\project\\\\anime_dataset\\\\orange1\\\\' + 'p2b1.' + str(idx) + '.jpg'\n",
    "        cv2.imwrite(name,img)\n",
    "        os.remove(path)\n",
    "        \n",
    "        \n",
    "root = 'E:\\\\abag\\\\Course\\\\Third semester 2\\\\project\\\\anime_dataset\\\\pink1'\n",
    "\n",
    "\n",
    "files = os.listdir(root)\n",
    "img = [image for image in files]\n",
    "images = [os.path.join(root,image) for image in img]\n",
    "\n",
    "\n",
    "num = len(files)\n",
    "for i in range(num):\n",
    "    distinguish_p2b(images[i], i+200)\n",
    "    t = (i / num) * 100\n",
    "    print(\"进度：%2.2f\" % t, end='\\r')"
   ]
  },
  {
   "cell_type": "code",
   "execution_count": 16,
   "metadata": {},
   "outputs": [
    {
     "ename": "IndentationError",
     "evalue": "unexpected indent (<ipython-input-16-16be5424718d>, line 36)",
     "output_type": "error",
     "traceback": [
      "\u001b[1;36m  File \u001b[1;32m\"<ipython-input-16-16be5424718d>\"\u001b[1;36m, line \u001b[1;32m36\u001b[0m\n\u001b[1;33m    elif (R - G) > 50 and G - B < 25 and G - B > -3:\u001b[0m\n\u001b[1;37m    ^\u001b[0m\n\u001b[1;31mIndentationError\u001b[0m\u001b[1;31m:\u001b[0m unexpected indent\n"
     ]
    }
   ],
   "source": [
    "def distinguish_others(path, idx):\n",
    "    img = cv2.imread(path)\n",
    "    hair = img[:110,:,:]\n",
    "    B_channel = hair[:,:,:1]\n",
    "    G_channel = hair[:,:,1:2]\n",
    "    R_channel = hair[:,:,2:]\n",
    "    B = np.mean(B_channel)\n",
    "    G = np.mean(G_channel)\n",
    "    R = np.mean(R_channel)\n",
    "    BGR = [B, G, R]\n",
    "    \n",
    "    \n",
    "    if (R - G)/(R - B)>1.3 and R >195:\n",
    "        name = 'E:\\\\abag\\\\Course\\\\Third semester 2\\\\project\\\\anime_dataset\\\\yellow1\\\\' + 'others' + str(idx) + '.jpg'\n",
    "        cv2.imwrite(name,img)\n",
    "        os.remove(path)\n",
    "    elif G - R >= 0  and G - B > 20 and G > 90:\n",
    "        name = 'E:\\\\abag\\\\Course\\\\Third semester 2\\\\project\\\\anime_dataset\\\\green1\\\\' + 'others' + str(idx) + '.jpg'\n",
    "        cv2.imwrite(name,img)\n",
    "        os.remove(path)\n",
    "    elif G - B >= 0 and G - R > 15 and (B - G)/(B - R) > 3:\n",
    "        name = 'E:\\\\abag\\\\Course\\\\Third semester 2\\\\project\\\\anime_dataset\\\\cyan1\\\\' + 'others' + str(idx) + '.jpg'\n",
    "        cv2.imwrite(name,img)\n",
    "        os.remove(path)\n",
    "        \n",
    "        \n",
    "    \n",
    "    elif R > 150 and np.abs(G - B) < 30 and R - G > 90:\n",
    "        name = 'E:\\\\abag\\\\Course\\\\Third semester 2\\\\project\\\\anime_dataset\\\\red1\\\\' + 'others' + str(idx) + '.jpg'\n",
    "        cv2.imwrite(name,img)\n",
    "        os.remove(path)\n",
    "'''    elif (R - G) > 25 and (G - B) > 25:\n",
    "        name = 'E:\\\\abag\\\\Course\\\\Third semester 2\\\\project\\\\anime_dataset\\\\orange1\\\\' + 'others' + str(idx) + '.jpg'\n",
    "        cv2.imwrite(name,img)\n",
    "        os.remove(path)'''\n",
    "    elif (R - G) > 50 and G - B < 25 and G - B > -3:\n",
    "        name = 'E:\\\\abag\\\\Course\\\\Third semester 2\\\\project\\\\anime_dataset\\\\brown1\\\\' + 'others' + str(idx) + '.jpg'\n",
    "        cv2.imwrite(name,img)\n",
    "        os.remove(path)\n",
    "    elif B - G >= 30 and R - G > 15 and (B - G)/(B - R)>2:\n",
    "        name = 'E:\\\\abag\\\\Course\\\\Third semester 2\\\\project\\\\anime_dataset\\\\purple1\\\\' + 'others' + str(idx) + '.jpg'\n",
    "        cv2.imwrite(name,img)\n",
    "        os.remove(path)\n",
    "    elif np.abs(R - G) < 20 and np.abs(B - G) < 20 and np.abs(R - B) < 20:\n",
    "        if R > 210:\n",
    "            name = 'E:\\\\abag\\\\Course\\\\Third semester 2\\\\project\\\\anime_dataset\\\\white1\\\\' + 'others' + str(idx) + '.jpg'\n",
    "            cv2.imwrite(name,img)\n",
    "            os.remove(path)\n",
    "    '''elif np.abs(R - G) < 40 and np.abs(B - G) < 40 and np.abs(R - B) < 40:\n",
    "        name = 'E:\\\\abag\\\\Course\\\\Third semester 2\\\\project\\\\anime_dataset\\\\gray1\\\\' + 'others' + str(idx) + '.jpg'\n",
    "        cv2.imwrite(name,img)\n",
    "        os.remove(path)'''\n",
    "    '''elif B - G > 0 and G - R > 20:\n",
    "        name = 'E:\\\\abag\\\\Course\\\\Third semester 2\\\\project\\\\anime_dataset\\\\blue1\\\\' + 'others' + str(idx) + '.jpg'\n",
    "        cv2.imwrite(name,img)\n",
    "        os.remove(path)'''"
   ]
  },
  {
   "cell_type": "code",
   "execution_count": 15,
   "metadata": {},
   "outputs": [
    {
     "name": "stdout",
     "output_type": "stream",
     "text": [
      "进度：100.00\r"
     ]
    }
   ],
   "source": [
    "root = 'E:\\\\abag\\\\Course\\\\Third semester 2\\\\project\\\\anime_face'\n",
    "\n",
    "\n",
    "files = os.listdir(root)\n",
    "img = [image for image in files]\n",
    "images = [os.path.join(root,image) for image in img]\n",
    "\n",
    "\n",
    "num = len(files)\n",
    "for i in range(num):\n",
    "    distinguish_others(images[i], i+200)\n",
    "    t = (i / num) * 100\n",
    "    print(\"进度：%2.2f\" % t, end='\\r')"
   ]
  },
  {
   "cell_type": "code",
   "execution_count": 3,
   "metadata": {},
   "outputs": [
    {
     "name": "stdout",
     "output_type": "stream",
     "text": [
      "进度：99.97\r"
     ]
    }
   ],
   "source": [
    "def distinguish_o2yb(path, idx):\n",
    "    img = cv2.imread(path)\n",
    "    hair = img[:110,:,:]\n",
    "    B_channel = hair[:,:,:1]\n",
    "    G_channel = hair[:,:,1:2]\n",
    "    R_channel = hair[:,:,2:]\n",
    "    B = np.mean(B_channel)\n",
    "    G = np.mean(G_channel)\n",
    "    R = np.mean(R_channel)\n",
    "    BGR = [B, G, R]\n",
    "    \n",
    "\n",
    "    if R>215:\n",
    "        name = 'E:\\\\abag\\\\Course\\\\Third semester 2\\\\project\\\\anime_dataset\\\\yellow1\\\\' + 'o2yb6.' + str(idx) + '.jpg'\n",
    "        cv2.imwrite(name,img)\n",
    "        os.remove(path)\n",
    "#     elif (R - G)/(G - B)>0.8 and R <230:\n",
    "#         name = 'E:\\\\abag\\\\Course\\\\Third semester 2\\\\project\\\\anime_dataset\\\\brown1\\\\' + 'o2yb3.' + str(idx) + '.jpg'\n",
    "#         cv2.imwrite(name,img)\n",
    "#         os.remove(path)\n",
    "        \n",
    "        \n",
    "root = 'E:\\\\abag\\\\Course\\\\Third semester 2\\\\project\\\\anime_dataset\\\\brown1'\n",
    "\n",
    "\n",
    "files = os.listdir(root)\n",
    "img = [image for image in files]\n",
    "images = [os.path.join(root,image) for image in img]\n",
    "\n",
    "\n",
    "num = len(files)\n",
    "for i in range(num):\n",
    "    distinguish_o2yb(images[i], i+200)\n",
    "    t = (i / num) * 100\n",
    "    print(\"进度：%2.2f\" % t, end='\\r')"
   ]
  },
  {
   "cell_type": "code",
   "execution_count": 9,
   "metadata": {},
   "outputs": [
    {
     "name": "stdout",
     "output_type": "stream",
     "text": [
      "进度：100.00\r"
     ]
    }
   ],
   "source": [
    "def distinguish_g2gb(path, idx):\n",
    "    img = cv2.imread(path)\n",
    "    img_HSV = cv2.imread(path, cv2.COLOR_BGR2HSV)\n",
    "    hair = img_HSV[:110,:,:]\n",
    "    H_channel = hair[:,:,:1]\n",
    "    S_channel = hair[:,:,1:2]\n",
    "    V_channel = hair[:,:,2:]\n",
    "    H = np.mean(H_channel)\n",
    "    S = np.mean(S_channel)\n",
    "    V = np.mean(V_channel)\n",
    "    \n",
    "\n",
    "    if V <= 45:\n",
    "        name = 'E:\\\\abag\\\\Course\\\\Third semester 2\\\\project\\\\anime_dataset\\\\black1\\\\' + 'g2gb' + str(idx) + '.jpg'\n",
    "        cv2.imwrite(name,img)\n",
    "        os.remove(path)\n",
    "    elif V > 45 and V < 220 and S <= 43 :\n",
    "        name = 'E:\\\\abag\\\\Course\\\\Third semester 2\\\\project\\\\anime_dataset\\\\gray2\\\\' + 'g2gb' + str(idx) + '.jpg'\n",
    "        cv2.imwrite(name,img)\n",
    "        os.remove(path)\n",
    "        \n",
    "        \n",
    "root = 'E:\\\\abag\\\\Course\\\\Third semester 2\\\\project\\\\anime_dataset\\\\gray1'\n",
    "\n",
    "\n",
    "files = os.listdir(root)\n",
    "img = [image for image in files]\n",
    "images = [os.path.join(root,image) for image in img]\n",
    "\n",
    "\n",
    "num = len(files)\n",
    "for i in range(num):\n",
    "    distinguish_g2gb(images[i], i)\n",
    "    t = (i / num) * 100\n",
    "    print(\"进度：%2.2f\" % t, end='\\r')"
   ]
  },
  {
   "cell_type": "code",
   "execution_count": 9,
   "metadata": {},
   "outputs": [
    {
     "name": "stdout",
     "output_type": "stream",
     "text": [
      "进度：99.89\r"
     ]
    }
   ],
   "source": [
    "def distinguish_b2c(path, idx):\n",
    "    img = cv2.imread(path)\n",
    "    hair = img[:110,:,:]\n",
    "    B_channel = hair[:,:,:1]\n",
    "    G_channel = hair[:,:,1:2]\n",
    "    R_channel = hair[:,:,2:]\n",
    "    B = np.mean(B_channel)\n",
    "    G = np.mean(G_channel)\n",
    "    R = np.mean(R_channel)\n",
    "    \n",
    "\n",
    "    if G - B >= -15:\n",
    "        name = 'E:\\\\abag\\\\Course\\\\Third semester 2\\\\project\\\\anime_dataset\\\\cyan1\\\\' + 'b2c' + str(idx) + '.jpg'\n",
    "        cv2.imwrite(name,img)\n",
    "        os.remove(path)\n",
    "        \n",
    "        \n",
    "root = 'E:\\\\abag\\\\Course\\\\Third semester 2\\\\project\\\\anime_dataset\\\\blue1'\n",
    "\n",
    "\n",
    "files = os.listdir(root)\n",
    "img = [image for image in files]\n",
    "images = [os.path.join(root,image) for image in img]\n",
    "\n",
    "\n",
    "num = len(files)\n",
    "for i in range(num):\n",
    "    distinguish_b2c(images[i], i)\n",
    "    t = (i / num) * 100\n",
    "    print(\"进度：%2.2f\" % t, end='\\r')"
   ]
  },
  {
   "cell_type": "code",
   "execution_count": 5,
   "metadata": {},
   "outputs": [
    {
     "name": "stdout",
     "output_type": "stream",
     "text": [
      "进度：100.00\r"
     ]
    }
   ],
   "source": [
    "def distinguish_g2bgpb(path, idx):\n",
    "    img = cv2.imread(path)\n",
    "    hair = img[:110,:,:]\n",
    "    B_channel = hair[:,:,:1]\n",
    "    G_channel = hair[:,:,1:2]\n",
    "    R_channel = hair[:,:,2:]\n",
    "    B = np.mean(B_channel)\n",
    "    G = np.mean(G_channel)\n",
    "    R = np.mean(R_channel)\n",
    "    \n",
    "\n",
    "    if G > B and G > R:\n",
    "        name = 'E:\\\\abag\\\\Course\\\\Third semester 2\\\\project\\\\anime_dataset\\\\green1\\\\' + 'g2bgpb' + str(idx) + '.jpg'\n",
    "        cv2.imwrite(name,img)\n",
    "        os.remove(path)\n",
    "    elif B > G:\n",
    "        if G > R:\n",
    "            name = 'E:\\\\abag\\\\Course\\\\Third semester 2\\\\project\\\\anime_dataset\\\\blue1\\\\' + 'g2bgpb' + str(idx) + '.jpg'\n",
    "            cv2.imwrite(name,img)\n",
    "            os.remove(path)\n",
    "        else:\n",
    "            name = 'E:\\\\abag\\\\Course\\\\Third semester 2\\\\project\\\\anime_dataset\\\\purple1\\\\' + 'g2bgpb' + str(idx) + '.jpg'\n",
    "            cv2.imwrite(name,img)\n",
    "            os.remove(path)\n",
    "    elif R > G:\n",
    "        if G >= B:\n",
    "            name = 'E:\\\\abag\\\\Course\\\\Third semester 2\\\\project\\\\anime_dataset\\\\brown1\\\\' + 'g2bgpb' + str(idx) + '.jpg'\n",
    "            cv2.imwrite(name,img)\n",
    "            os.remove(path)\n",
    "        else:\n",
    "            name = 'E:\\\\abag\\\\Course\\\\Third semester 2\\\\project\\\\anime_dataset\\\\purple1\\\\' + 'g2bgpb' + str(idx) + '.jpg'\n",
    "            cv2.imwrite(name,img)\n",
    "            os.remove(path)\n",
    "        \n",
    "        \n",
    "root = 'E:\\\\abag\\\\Course\\\\Third semester 2\\\\project\\\\anime_dataset\\\\gray1'\n",
    "\n",
    "\n",
    "files = os.listdir(root)\n",
    "img = [image for image in files]\n",
    "images = [os.path.join(root,image) for image in img]\n",
    "\n",
    "\n",
    "num = len(files)\n",
    "for i in range(num):\n",
    "    distinguish_g2bgpb(images[i], i)\n",
    "    t = (i / num) * 100\n",
    "    print(\"进度：%2.2f\" % t, end='\\r')"
   ]
  },
  {
   "cell_type": "code",
   "execution_count": null,
   "metadata": {},
   "outputs": [],
   "source": [
    "def distinguish_b2wy(path, idx):\n",
    "    img = cv2.imread(path)\n",
    "    hair = img[:110,:,:]\n",
    "    B_channel = hair[:,:,:1]\n",
    "    G_channel = hair[:,:,1:2]\n",
    "    R_channel = hair[:,:,2:]\n",
    "    B = np.mean(B_channel)\n",
    "    G = np.mean(G_channel)\n",
    "    R = np.mean(R_channel)\n",
    "    \n",
    "\n",
    "    if R > 220:\n",
    "        if R - G < G - B:\n",
    "            name = 'E:\\\\abag\\\\Course\\\\Third semester 2\\\\project\\\\anime_dataset\\\\yellow1\\\\' + 'b2wy' + str(idx) + '.jpg'\n",
    "            cv2.imwrite(name,img)\n",
    "            os.remove(path)\n",
    "    elif np.abs(R - G) < 30 and np.abs(G - B) < 30 and np.abs(R - B) < 30:\n",
    "        name = 'E:\\\\abag\\\\Course\\\\Third semester 2\\\\project\\\\anime_dataset\\\\gray1\\\\' + 'b2wy' + str(idx) + '.jpg'\n",
    "        cv2.imwrite(name,img)\n",
    "        os.remove(path)\n",
    "        \n",
    "        \n",
    "root = 'E:\\\\abag\\\\Course\\\\Third semester 2\\\\project\\\\anime_dataset\\\\brown1'\n",
    "\n",
    "\n",
    "files = os.listdir(root)\n",
    "img = [image for image in files]\n",
    "images = [os.path.join(root,image) for image in img]\n",
    "\n",
    "\n",
    "num = len(files)\n",
    "for i in range(num):\n",
    "    distinguish_g2bgpb(images[i], i)\n",
    "    t = (i / num) * 100\n",
    "    print(\"进度：%2.2f\" % t, end='\\r')"
   ]
  },
  {
   "cell_type": "code",
   "execution_count": 8,
   "metadata": {},
   "outputs": [
    {
     "name": "stdout",
     "output_type": "stream",
     "text": [
      "进度：99.80\r"
     ]
    }
   ],
   "source": [
    "def distinguish_g2c(path, idx):\n",
    "    img = cv2.imread(path)\n",
    "    hair = img[:110,:,:]\n",
    "    B_channel = hair[:,:,:1]\n",
    "    G_channel = hair[:,:,1:2]\n",
    "    R_channel = hair[:,:,2:]\n",
    "    B = np.mean(B_channel)\n",
    "    G = np.mean(G_channel)\n",
    "    R = np.mean(R_channel)\n",
    "    \n",
    "\n",
    "    if B - G < 20:\n",
    "        name = 'E:\\\\abag\\\\Course\\\\Third semester 2\\\\project\\\\anime_dataset\\\\cyan1\\\\' + '0g2c5.' + str(idx) + '.jpg'\n",
    "        cv2.imwrite(name,img)\n",
    "        os.remove(path)\n",
    "        \n",
    "        \n",
    "root = 'E:\\\\abag\\\\Course\\\\Third semester 2\\\\project\\\\anime_dataset\\\\green'\n",
    "\n",
    "\n",
    "files = os.listdir(root)\n",
    "img = [image for image in files]\n",
    "images = [os.path.join(root,image) for image in img]\n",
    "\n",
    "\n",
    "num = len(files)\n",
    "for i in range(num):\n",
    "    distinguish_g2c(images[i], i)\n",
    "    t = (i / num) * 100\n",
    "    print(\"进度：%2.2f\" % t, end='\\r')"
   ]
  },
  {
   "cell_type": "code",
   "execution_count": 13,
   "metadata": {},
   "outputs": [
    {
     "name": "stdout",
     "output_type": "stream",
     "text": [
      "进度：99.89\r"
     ]
    }
   ],
   "source": [
    "def distinguish_p2w(path, idx):\n",
    "    img = cv2.imread(path)\n",
    "    hair = img[:110,:,:]\n",
    "    B_channel = hair[:,:,:1]\n",
    "    G_channel = hair[:,:,1:2]\n",
    "    R_channel = hair[:,:,2:]\n",
    "    B = np.mean(B_channel)\n",
    "    G = np.mean(G_channel)\n",
    "    R = np.mean(R_channel)\n",
    "    BGR = [B, G, R]\n",
    "    \n",
    "\n",
    "    if np.abs(G - B) > 13:\n",
    "        name = 'E:\\\\abag\\\\Course\\\\Third semester 2\\\\project\\\\anime_dataset\\\\white1\\\\' + 'p2w2.' + str(idx) + '.jpg'\n",
    "        cv2.imwrite(name,img)\n",
    "        os.remove(path)\n",
    "        \n",
    "        \n",
    "root = 'E:\\\\abag\\\\Course\\\\Third semester 2\\\\project\\\\anime_dataset\\\\pink1'\n",
    "\n",
    "\n",
    "files = os.listdir(root)\n",
    "img = [image for image in files]\n",
    "images = [os.path.join(root,image) for image in img]\n",
    "\n",
    "\n",
    "num = len(files)\n",
    "for i in range(num):\n",
    "    distinguish_p2w(images[i], i)\n",
    "    t = (i / num) * 100\n",
    "    print(\"进度：%2.2f\" % t, end='\\r')"
   ]
  },
  {
   "cell_type": "code",
   "execution_count": 14,
   "metadata": {},
   "outputs": [
    {
     "name": "stdout",
     "output_type": "stream",
     "text": [
      "进度：99.87\r"
     ]
    }
   ],
   "source": [
    "def distinguish_o2y(path, idx):\n",
    "    img = cv2.imread(path)\n",
    "    hair = img[:110,:,:]\n",
    "    B_channel = hair[:,:,:1]\n",
    "    G_channel = hair[:,:,1:2]\n",
    "    R_channel = hair[:,:,2:]\n",
    "    B = np.mean(B_channel)\n",
    "    G = np.mean(G_channel)\n",
    "    R = np.mean(R_channel)\n",
    "    BGR = [B, G, R]\n",
    "    \n",
    "\n",
    "    if R > 225:\n",
    "        name = 'E:\\\\abag\\\\Course\\\\Third semester 2\\\\project\\\\anime_dataset\\\\yellow1\\\\' + 'o2y' + str(idx) + '.jpg'\n",
    "        cv2.imwrite(name,img)\n",
    "        os.remove(path)\n",
    "        \n",
    "        \n",
    "root = 'E:\\\\abag\\\\Course\\\\Third semester 2\\\\project\\\\anime_dataset\\\\orange'\n",
    "\n",
    "\n",
    "files = os.listdir(root)\n",
    "img = [image for image in files]\n",
    "images = [os.path.join(root,image) for image in img]\n",
    "\n",
    "\n",
    "num = len(files)\n",
    "for i in range(num):\n",
    "    distinguish_o2y(images[i], i)\n",
    "    t = (i / num) * 100\n",
    "    print(\"进度：%2.2f\" % t, end='\\r')"
   ]
  },
  {
   "cell_type": "code",
   "execution_count": 15,
   "metadata": {},
   "outputs": [
    {
     "name": "stdout",
     "output_type": "stream",
     "text": [
      "进度：99.56\r"
     ]
    }
   ],
   "source": [
    "def distinguish_o2g(path, idx):\n",
    "    img = cv2.imread(path)\n",
    "    hair = img[:110,:,:]\n",
    "    B_channel = hair[:,:,:1]\n",
    "    G_channel = hair[:,:,1:2]\n",
    "    R_channel = hair[:,:,2:]\n",
    "    B = np.mean(B_channel)\n",
    "    G = np.mean(G_channel)\n",
    "    R = np.mean(R_channel)\n",
    "    BGR = [B, G, R]\n",
    "    \n",
    "\n",
    "    if np.abs(G - B) / np.abs(R - G) >2:\n",
    "        name = 'E:\\\\abag\\\\Course\\\\Third semester 2\\\\project\\\\anime_dataset\\\\green1\\\\' + 'o2g' + str(idx) + '.jpg'\n",
    "        cv2.imwrite(name,img)\n",
    "        os.remove(path)\n",
    "        \n",
    "        \n",
    "root = 'E:\\\\abag\\\\Course\\\\Third semester 2\\\\project\\\\anime_dataset\\\\orange'\n",
    "\n",
    "\n",
    "files = os.listdir(root)\n",
    "img = [image for image in files]\n",
    "images = [os.path.join(root,image) for image in img]\n",
    "\n",
    "\n",
    "num = len(files)\n",
    "for i in range(num):\n",
    "    distinguish_o2g(images[i], i)\n",
    "    t = (i / num) * 100\n",
    "    print(\"进度：%2.2f\" % t, end='\\r')"
   ]
  },
  {
   "cell_type": "code",
   "execution_count": null,
   "metadata": {},
   "outputs": [],
   "source": []
  },
  {
   "cell_type": "code",
   "execution_count": null,
   "metadata": {},
   "outputs": [],
   "source": []
  },
  {
   "cell_type": "code",
   "execution_count": null,
   "metadata": {},
   "outputs": [],
   "source": []
  },
  {
   "cell_type": "code",
   "execution_count": null,
   "metadata": {},
   "outputs": [],
   "source": []
  },
  {
   "cell_type": "code",
   "execution_count": 2,
   "metadata": {},
   "outputs": [],
   "source": [
    "import os\n",
    "import cv2\n",
    "import numpy as np\n",
    "# from playsound import playsound"
   ]
  },
  {
   "cell_type": "code",
   "execution_count": 3,
   "metadata": {},
   "outputs": [],
   "source": [
    "# def HSV_BGW(path, idx, epoch):\n",
    "#     img = cv2.imread(path)\n",
    "#     img_HSV = cv2.imread(path, cv2.COLOR_BGR2HSV)\n",
    "#     hair = img_HSV[:110,:,:]\n",
    "#     H_channel = hair[:,:,:1]\n",
    "#     S_channel = hair[:,:,1:2]\n",
    "#     V_channel = hair[:,:,2:]\n",
    "#     H = np.mean(H_channel)\n",
    "#     S = np.mean(S_channel)\n",
    "#     V = np.mean(V_channel)\n",
    "    \n",
    "#     if V <= 46:\n",
    "#         name = 'E:\\\\abag\\\\Course\\\\Third semester 2\\\\project\\\\anime_dataset\\\\black\\\\HSV_BGW' + str(epoch) + '_' + str(idx) + '.jpg'\n",
    "#         cv2.imwrite(name,img)\n",
    "# #         os.remove(path)\n",
    "#     else:\n",
    "#         if S <= 220 and V >= 46 and V <= 191:\n",
    "#             name = 'E:\\\\abag\\\\Course\\\\Third semester 2\\\\project\\\\anime_dataset\\\\gray\\\\HSV_BGW'  + str(epoch) + '_' + str(idx) + '.jpg'\n",
    "#             cv2.imwrite(name,img)\n",
    "# #             os.remove(path)\n",
    "#         elif S <= 30 and V >= 191:\n",
    "#             name = 'E:\\\\abag\\\\Course\\\\Third semester 2\\\\project\\\\anime_dataset\\\\white\\\\HSV_BGW'  + str(epoch) + '_' + str(idx) + '.jpg'\n",
    "#             cv2.imwrite(name,img)\n",
    "# #             os.remove(path)"
   ]
  },
  {
   "cell_type": "code",
   "execution_count": 2,
   "metadata": {},
   "outputs": [],
   "source": [
    "def HSV_PB(path, idx ,epoch):\n",
    "    img = cv2.imread(path)\n",
    "    img_HSV = cv2.imread(path, cv2.COLOR_BGR2HSV)\n",
    "    hair = img_HSV[:110,:,:]\n",
    "    H_channel = hair[:,:,:1]\n",
    "    S_channel = hair[:,:,1:2]\n",
    "    V_channel = hair[:,:,2:]\n",
    "    H = np.mean(H_channel)\n",
    "    S = np.mean(S_channel)\n",
    "    V = np.mean(V_channel)\n",
    "    \n",
    "    if H >= 239 or H <= 16:\n",
    "        if S <= 153 and S >=38 and V >= 204:\n",
    "            name = 'E:\\\\abag\\\\Course\\\\Third semester 2\\\\project\\\\anime_dataset\\\\pink1\\\\HSV_PB' + str(epoch) + '_' + str(idx) + '.jpg'\n",
    "            cv2.imwrite(name,img)\n",
    "#             os.remove(path)\n",
    "    elif H >= 232 and H <= 238:\n",
    "        if S >= 153 and V >= 194:\n",
    "            name = 'E:\\\\abag\\\\Course\\\\Third semester 2\\\\project\\\\anime_dataset\\\\pink2\\\\HSV_PB' + str(epoch) + '_' + str(idx) + '.jpg'\n",
    "            cv2.imwrite(name,img)\n",
    "#             os.remove(path)\n",
    "        elif S >= 89 and S <= 153 and V >= 204:\n",
    "            name = 'E:\\\\abag\\\\Course\\\\Third semester 2\\\\project\\\\anime_dataset\\\\pink3\\\\HSV_PB' + str(epoch) + '_' + str(idx) + '.jpg'\n",
    "            cv2.imwrite(name,img)\n",
    "#             os.remove(path)\n",
    "                \n",
    "    if H >= 232 or H <= 11:\n",
    "        if S >=38 and V >= 145 and V <= 153:\n",
    "            name = 'E:\\\\abag\\\\Course\\\\Third semester 2\\\\project\\\\anime_dataset\\\\brown1\\\\HSV_PB' + str(epoch) + '_' + str(idx) + '.jpg'\n",
    "            cv2.imwrite(name,img)\n",
    "#             os.remove(path)\n",
    "    elif H >= 13 and H <= 27:\n",
    "        if V >= 145 and V <= 179:\n",
    "            name = 'E:\\\\abag\\\\Course\\\\Third semester 2\\\\project\\\\anime_dataset\\\\brown2\\\\HSV_PB' + str(epoch) + '_' + str(idx) + '.jpg'\n",
    "            cv2.imwrite(name,img)\n",
    "#             os.remove(path)\n",
    "    elif H >= 27 and H <= 30:\n",
    "        if V >= 153 and V <= 145 and V <= 153:\n",
    "            name = 'E:\\\\abag\\\\Course\\\\Third semester 2\\\\project\\\\anime_dataset\\\\brown3\\\\HSV_PB' + str(epoch) + '_' + str(idx) + '.jpg'\n",
    "            cv2.imwrite(name,img)\n",
    "#             os.remove(path)"
   ]
  },
  {
   "cell_type": "code",
   "execution_count": 3,
   "metadata": {},
   "outputs": [
    {
     "name": "stdout",
     "output_type": "stream",
     "text": [
      "进度：100.00\r"
     ]
    }
   ],
   "source": [
    "root = 'E:\\\\abag\\\\Course\\\\Third semester 2\\\\project\\\\anime_face'\n",
    "\n",
    "\n",
    "files = os.listdir(root)\n",
    "img = [image for image in files]\n",
    "images = [os.path.join(root,image) for image in img]\n",
    "\n",
    "\n",
    "num = len(files)\n",
    "for i in range(num):\n",
    "    HSV_PB(images[i], i, 2)\n",
    "    t = (i / num) * 100\n",
    "    print(\"进度：%2.2f\" % t, end='\\r')"
   ]
  },
  {
   "cell_type": "code",
   "execution_count": 2,
   "metadata": {},
   "outputs": [],
   "source": [
    "def HSV_CS(path, idx ,epoch):\n",
    "    img = cv2.imread(path)\n",
    "    img_HSV = cv2.imread(path, cv2.COLOR_BGR2HSV)\n",
    "    hair = img_HSV[:110,:,:]\n",
    "    H_channel = hair[:,:,:1]\n",
    "    S_channel = hair[:,:,1:2]\n",
    "    V_channel = hair[:,:,2:]\n",
    "    H = np.mean(H_channel)\n",
    "    S = np.mean(S_channel)\n",
    "    V = np.mean(V_channel)\n",
    "    \n",
    "    if H >= 331 or H <= 15:\n",
    "        if S >=43 and V >= 46:\n",
    "            name = 'E:\\\\abag\\\\Course\\\\Third semester 2\\\\project\\\\anime_dataset\\\\red1\\\\HSV_CS' + str(epoch) + '_' + str(idx) + '.jpg'\n",
    "            cv2.imwrite(name,img)\n",
    "#             os.remove(path)\n",
    "    elif H >= 16 or H <= 31:\n",
    "        if S >= 43 and V >= 46:\n",
    "            name = 'E:\\\\abag\\\\Course\\\\Third semester 2\\\\project\\\\anime_dataset\\\\orange1\\\\HSV_CS' + str(epoch) + '_' + str(idx) + '.jpg'\n",
    "            cv2.imwrite(name,img)\n",
    "#             os.remove(path)\n",
    "#     elif H >= 37 or H <= 48:\n",
    "#         if S >= 43 and V >= 46:\n",
    "#             name = 'E:\\\\abag\\\\Course\\\\Third semester 2\\\\project\\\\anime_dataset\\\\yellow1\\\\HSV_CS' + str(epoch) + '_' + str(idx) + '.jpg'\n",
    "#             cv2.imwrite(name,img)\n",
    "# #             os.remove(path)\n",
    "#     elif H >= 49 or H <= 110:\n",
    "#         if S >= 43 and V >= 46:\n",
    "#             name = 'E:\\\\abag\\\\Course\\\\Third semester 2\\\\project\\\\anime_dataset\\\\green1\\\\HSV_CS' + str(epoch) + '_' + str(idx) + '.jpg'\n",
    "#             cv2.imwrite(name,img)\n",
    "# #             os.remove(path)\n",
    "#     elif H >= 111 or H <= 141:\n",
    "#         if S >= 43 and V >= 46:\n",
    "#             name = 'E:\\\\abag\\\\Course\\\\Third semester 2\\\\project\\\\anime_dataset\\\\cyan1\\\\HSV_CS' + str(epoch) + '_' + str(idx) + '.jpg'\n",
    "#             cv2.imwrite(name,img)\n",
    "# #             os.remove(path)\n",
    "#     elif H >= 142 or H <= 176:\n",
    "#         if S >= 43 and V >= 46:\n",
    "#             name = 'E:\\\\abag\\\\Course\\\\Third semester 2\\\\project\\\\anime_dataset\\\\blue1\\\\HSV_CS' + str(epoch) + '_' + str(idx) + '.jpg'\n",
    "#             cv2.imwrite(name,img)\n",
    "# #             os.remove(path)\n",
    "#     elif H >= 177:\n",
    "#         if S >= 43 and V >= 46:\n",
    "#             name = 'E:\\\\abag\\\\Course\\\\Third semester 2\\\\project\\\\anime_dataset\\\\purple1\\\\HSV_CS' + str(epoch) + '_' + str(idx) + '.jpg'\n",
    "#             cv2.imwrite(name,img)\n",
    "# #             os.remove(path)\n"
   ]
  },
  {
   "cell_type": "code",
   "execution_count": 3,
   "metadata": {},
   "outputs": [
    {
     "name": "stdout",
     "output_type": "stream",
     "text": [
      "进度：6.05\r"
     ]
    }
   ],
   "source": [
    "root = 'E:\\\\abag\\\\Course\\\\Third semester 2\\\\project\\\\anime_face'\n",
    "\n",
    "\n",
    "files = os.listdir(root)\n",
    "img = [image for image in files]\n",
    "images = [os.path.join(root,image) for image in img]\n",
    "\n",
    "\n",
    "num = len(files)\n",
    "for i in range(5000):\n",
    "    HSV_CS(images[i], i, 2)\n",
    "    t = (i / num) * 100\n",
    "    print(\"进度：%2.2f\" % t, end='\\r')"
   ]
  },
  {
   "cell_type": "code",
   "execution_count": null,
   "metadata": {},
   "outputs": [],
   "source": []
  },
  {
   "cell_type": "code",
   "execution_count": null,
   "metadata": {},
   "outputs": [],
   "source": []
  },
  {
   "cell_type": "code",
   "execution_count": null,
   "metadata": {},
   "outputs": [],
   "source": []
  },
  {
   "cell_type": "code",
   "execution_count": 2,
   "metadata": {},
   "outputs": [],
   "source": [
    "import os\n",
    "import cv2\n",
    "import numpy as np\n",
    "import torch"
   ]
  },
  {
   "cell_type": "code",
   "execution_count": 6,
   "metadata": {},
   "outputs": [],
   "source": [
    "root = 'E:\\\\abag\\\\Course\\\\Third semester 2\\\\project\\\\face_dataset'"
   ]
  },
  {
   "cell_type": "code",
   "execution_count": 18,
   "metadata": {},
   "outputs": [],
   "source": [
    "color_list = os.listdir(root)\n",
    "color2label = dict(zip(color_list, range(len(color_list))))\n",
    "label2color = dict(zip(range(len(color_list)), color_list))\n",
    "dir_paths = [os.path.join(root, s) for s in color_list]"
   ]
  },
  {
   "cell_type": "code",
   "execution_count": 26,
   "metadata": {},
   "outputs": [],
   "source": [
    "paths = []\n",
    "for dir_path in dir_paths:\n",
    "    files = os.listdir(dir_path)\n",
    "    file_paths = [os.path.join(dir_path,file) for file in files]\n",
    "    paths.extend(file_paths)"
   ]
  },
  {
   "cell_type": "code",
   "execution_count": 27,
   "metadata": {
    "scrolled": true
   },
   "outputs": [
    {
     "data": {
      "text/plain": [
       "'E:\\\\abag\\\\Course\\\\Third semester 2\\\\project\\\\face_dataset\\\\black\\\\BWG100020.jpg'"
      ]
     },
     "execution_count": 27,
     "metadata": {},
     "output_type": "execute_result"
    }
   ],
   "source": [
    "paths[0]"
   ]
  },
  {
   "cell_type": "code",
   "execution_count": 33,
   "metadata": {},
   "outputs": [
    {
     "data": {
      "text/plain": [
       "0"
      ]
     },
     "execution_count": 33,
     "metadata": {},
     "output_type": "execute_result"
    }
   ],
   "source": [
    "color = paths[0].split(os.sep)[-2]\n",
    "label = color2label[color]"
   ]
  },
  {
   "cell_type": "code",
   "execution_count": null,
   "metadata": {},
   "outputs": [],
   "source": [
    "color_list = os.listdir(root)\n",
    "COLOR2LABEL = dict(zip(color_list, range(len(color_list))))\n",
    "LABEL2COLOR = dict(zip(range(len(color_list)), color_list))\n",
    "\n",
    "\n",
    "class Anime_Dataset(Dataset):\n",
    "    \n",
    "    def __init__(self, train=True):\n",
    "        \n",
    "        color_list = os.listdir(root)\n",
    "        dir_paths = [os.path.join(root, s) for s in color_list if s.endswith('.jpg')]\n",
    "        self.paths = []\n",
    "        for dir_path in dir_paths:\n",
    "            files = os.listdir(dir_path)\n",
    "            file_paths = [os.path.join(dir_path,file) for file in files]\n",
    "            self.paths.extend(file_paths)\n",
    "        \n",
    "        \n",
    "    \n",
    "    def __getitem__(self, index):\n",
    "        image = cv2.imread(self.paths[index])\n",
    "        image = cv2.resize(image, (64, 64))  # shape=[128, 128, 3]\n",
    "        image = image.transpose([2, 0, 1])  # shape=[3, 128, 128]\n",
    "        image = torch.tensor(image, dtype=torch.float32)\n",
    "        image = image / 128. - 1\n",
    "        \n",
    "        color = paths[0].split(os.sep)[-2]\n",
    "        label = torch.tensor(COLOR2LABEL[color], dtype=torch.int64)\n",
    "        return image, label\n",
    "\n",
    "    def __len__(self):\n",
    "        return len(self.labels)"
   ]
  }
 ],
 "metadata": {
  "kernelspec": {
   "display_name": "Python 3",
   "language": "python",
   "name": "python3"
  },
  "language_info": {
   "codemirror_mode": {
    "name": "ipython",
    "version": 3
   },
   "file_extension": ".py",
   "mimetype": "text/x-python",
   "name": "python",
   "nbconvert_exporter": "python",
   "pygments_lexer": "ipython3",
   "version": "3.7.4"
  }
 },
 "nbformat": 4,
 "nbformat_minor": 2
}
